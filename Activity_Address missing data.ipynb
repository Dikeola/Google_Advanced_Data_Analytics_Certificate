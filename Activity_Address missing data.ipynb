{
 "cells": [
  {
   "cell_type": "markdown",
   "metadata": {
    "id": "1WD1hC5MTRMS"
   },
   "source": [
    "# Activity: Address missing data "
   ]
  },
  {
   "cell_type": "markdown",
   "metadata": {
    "id": "ee31943b-274e-4c28-bce6-155cb6f4c334"
   },
   "source": [
    "## Introduction\n",
    "\n",
    "The datasets that data professionals use to solve problems typically contain missing values, which must be dealt with in order to achieve clean, useful data. This is particularly crucial in exploratory data analysis (EDA). In this activity, you will learn how to address missing data. \n",
    "\n",
    "You are a financial data consultant, and an investor has tasked your team with identifying new business opportunities. To help them decide which future companies to invest in, you will provide a list of current businesses valued at more than $1 billion. These are sometimes referred to as \"unicorns.\" Your client will use this information to learn about profitable businesses in general.\n",
    "\n",
    "The investor has asked you to provide them with the following data: \n",
    "- Companies in the `hardware` industry based in either `Beijing`, `San Francisco`, or `London` \n",
    "- Companies in the `artificial intelligence` industry based in `London`\n",
    "-  A list of the top 20 countries sorted by sum of company valuations in each country, excluding `United States`, `China`, `India`, and `United Kingdom`\n",
    "- A global valuation map of all countries with companies that joined the list after 2020\n",
    "- A global valuation map of all countries except `United States`, `China`, `India`, and `United Kingdom` (a separate map for Europe is also required)\n",
    "\n",
    "Your dataset includes a list of businesses and data points, such as the year they were founded; their industry; and their city, country, and continent. "
   ]
  },
  {
   "cell_type": "markdown",
   "metadata": {
    "id": "4bb9630e-b940-4835-a389-d39def1fa848"
   },
   "source": [
    "## **Step 1: Imports** "
   ]
  },
  {
   "cell_type": "markdown",
   "metadata": {
    "id": "aefe3c18"
   },
   "source": [
    "### Import libraries"
   ]
  },
  {
   "cell_type": "markdown",
   "metadata": {
    "id": "bc180686-4ae2-47ea-a292-3588ac60a820"
   },
   "source": [
    "Import the following relevant Python libraries:\n",
    "* `numpy`\n",
    "* `pandas`\n",
    "* `matplotlib.pyplot`\n",
    "* `plotly.express`\n",
    "* `seaborn`\n",
    "\n"
   ]
  },
  {
   "cell_type": "code",
   "execution_count": 2,
   "metadata": {
    "id": "8e7f1f2c-bbcc-4f3c-b927-b090ee8334c4"
   },
   "outputs": [],
   "source": [
    "# Import libraries and modules.\n",
    "\n",
    "### YOUR CODE HERE ###\n",
    "import numpy as np\n",
    "import pandas as pd\n",
    "import matplotlib.pyplot\n",
    "import plotly.express\n",
    "import seaborn as sns"
   ]
  },
  {
   "cell_type": "markdown",
   "metadata": {
    "id": "1ecba4b6"
   },
   "source": [
    "### Load the dataset\n"
   ]
  },
  {
   "cell_type": "markdown",
   "metadata": {
    "id": "7d29c6bd-f194-46bb-b794-56dc20130473"
   },
   "source": [
    "The dataset is currently in CSV format and in a file named `Unicorn_Companies.csv`. As shown in this cell, the dataset has been automatically loaded in for you. You do not need to download the .csv file, or provide more code, in order to access the dataset and proceed with this lab. Please continue with this activity by completing the following instructions."
   ]
  },
  {
   "cell_type": "code",
   "execution_count": 3,
   "metadata": {
    "id": "3bd40d44-080f-4e49-b0c2-160dedc3c4df"
   },
   "outputs": [],
   "source": [
    "# RUN THIS CELL TO IMPORT YOUR DATA.\n",
    "\n",
    "### YOUR CODE HERE ###\n",
    "df_companies = pd.read_csv(\"Unicorn_Companies.csv\")"
   ]
  },
  {
   "cell_type": "markdown",
   "metadata": {
    "id": "95bf39c9-d05c-4324-a40b-bc692607b61b"
   },
   "source": [
    "## **Step 2: Data exploration** \n",
    "\n",
    "Explore the dataset and answer questions that will guide your management of missing values. "
   ]
  },
  {
   "cell_type": "markdown",
   "metadata": {
    "id": "fe813508"
   },
   "source": [
    "### Display top rows"
   ]
  },
  {
   "cell_type": "markdown",
   "metadata": {
    "id": "26561614-8e9b-4840-8dbf-b50131ae5314",
    "tags": []
   },
   "source": [
    "Display the first 10 rows of the data to understand how the dataset is structured."
   ]
  },
  {
   "cell_type": "code",
   "execution_count": 4,
   "metadata": {
    "id": "ad5210a5-7a64-4991-b004-de818cfaf506"
   },
   "outputs": [
    {
     "data": {
      "text/html": [
       "<div>\n",
       "<style scoped>\n",
       "    .dataframe tbody tr th:only-of-type {\n",
       "        vertical-align: middle;\n",
       "    }\n",
       "\n",
       "    .dataframe tbody tr th {\n",
       "        vertical-align: top;\n",
       "    }\n",
       "\n",
       "    .dataframe thead th {\n",
       "        text-align: right;\n",
       "    }\n",
       "</style>\n",
       "<table border=\"1\" class=\"dataframe\">\n",
       "  <thead>\n",
       "    <tr style=\"text-align: right;\">\n",
       "      <th></th>\n",
       "      <th>Company</th>\n",
       "      <th>Valuation</th>\n",
       "      <th>Date Joined</th>\n",
       "      <th>Industry</th>\n",
       "      <th>City</th>\n",
       "      <th>Country/Region</th>\n",
       "      <th>Continent</th>\n",
       "      <th>Year Founded</th>\n",
       "      <th>Funding</th>\n",
       "      <th>Select Investors</th>\n",
       "    </tr>\n",
       "  </thead>\n",
       "  <tbody>\n",
       "    <tr>\n",
       "      <th>0</th>\n",
       "      <td>Bytedance</td>\n",
       "      <td>$180B</td>\n",
       "      <td>4/7/17</td>\n",
       "      <td>Artificial intelligence</td>\n",
       "      <td>Beijing</td>\n",
       "      <td>China</td>\n",
       "      <td>Asia</td>\n",
       "      <td>2012</td>\n",
       "      <td>$8B</td>\n",
       "      <td>Sequoia Capital China, SIG Asia Investments, S...</td>\n",
       "    </tr>\n",
       "    <tr>\n",
       "      <th>1</th>\n",
       "      <td>SpaceX</td>\n",
       "      <td>$100B</td>\n",
       "      <td>12/1/12</td>\n",
       "      <td>Other</td>\n",
       "      <td>Hawthorne</td>\n",
       "      <td>United States</td>\n",
       "      <td>North America</td>\n",
       "      <td>2002</td>\n",
       "      <td>$7B</td>\n",
       "      <td>Founders Fund, Draper Fisher Jurvetson, Rothen...</td>\n",
       "    </tr>\n",
       "    <tr>\n",
       "      <th>2</th>\n",
       "      <td>SHEIN</td>\n",
       "      <td>$100B</td>\n",
       "      <td>7/3/18</td>\n",
       "      <td>E-commerce &amp; direct-to-consumer</td>\n",
       "      <td>Shenzhen</td>\n",
       "      <td>China</td>\n",
       "      <td>Asia</td>\n",
       "      <td>2008</td>\n",
       "      <td>$2B</td>\n",
       "      <td>Tiger Global Management, Sequoia Capital China...</td>\n",
       "    </tr>\n",
       "    <tr>\n",
       "      <th>3</th>\n",
       "      <td>Stripe</td>\n",
       "      <td>$95B</td>\n",
       "      <td>1/23/14</td>\n",
       "      <td>Fintech</td>\n",
       "      <td>San Francisco</td>\n",
       "      <td>United States</td>\n",
       "      <td>North America</td>\n",
       "      <td>2010</td>\n",
       "      <td>$2B</td>\n",
       "      <td>Khosla Ventures, LowercaseCapital, capitalG</td>\n",
       "    </tr>\n",
       "    <tr>\n",
       "      <th>4</th>\n",
       "      <td>Klarna</td>\n",
       "      <td>$46B</td>\n",
       "      <td>12/12/11</td>\n",
       "      <td>Fintech</td>\n",
       "      <td>Stockholm</td>\n",
       "      <td>Sweden</td>\n",
       "      <td>Europe</td>\n",
       "      <td>2005</td>\n",
       "      <td>$4B</td>\n",
       "      <td>Institutional Venture Partners, Sequoia Capita...</td>\n",
       "    </tr>\n",
       "    <tr>\n",
       "      <th>5</th>\n",
       "      <td>Canva</td>\n",
       "      <td>$40B</td>\n",
       "      <td>1/8/18</td>\n",
       "      <td>Internet software &amp; services</td>\n",
       "      <td>Surry Hills</td>\n",
       "      <td>Australia</td>\n",
       "      <td>Oceania</td>\n",
       "      <td>2012</td>\n",
       "      <td>$572M</td>\n",
       "      <td>Sequoia Capital China, Blackbird Ventures, Mat...</td>\n",
       "    </tr>\n",
       "    <tr>\n",
       "      <th>6</th>\n",
       "      <td>Checkout.com</td>\n",
       "      <td>$40B</td>\n",
       "      <td>5/2/19</td>\n",
       "      <td>Fintech</td>\n",
       "      <td>London</td>\n",
       "      <td>United Kingdom</td>\n",
       "      <td>Europe</td>\n",
       "      <td>2012</td>\n",
       "      <td>$2B</td>\n",
       "      <td>Tiger Global Management, Insight Partners, DST...</td>\n",
       "    </tr>\n",
       "    <tr>\n",
       "      <th>7</th>\n",
       "      <td>Instacart</td>\n",
       "      <td>$39B</td>\n",
       "      <td>12/30/14</td>\n",
       "      <td>Supply chain, logistics, &amp; delivery</td>\n",
       "      <td>San Francisco</td>\n",
       "      <td>United States</td>\n",
       "      <td>North America</td>\n",
       "      <td>2012</td>\n",
       "      <td>$3B</td>\n",
       "      <td>Khosla Ventures, Kleiner Perkins Caufield &amp; By...</td>\n",
       "    </tr>\n",
       "    <tr>\n",
       "      <th>8</th>\n",
       "      <td>JUUL Labs</td>\n",
       "      <td>$38B</td>\n",
       "      <td>12/20/17</td>\n",
       "      <td>Consumer &amp; retail</td>\n",
       "      <td>San Francisco</td>\n",
       "      <td>United States</td>\n",
       "      <td>North America</td>\n",
       "      <td>2015</td>\n",
       "      <td>$14B</td>\n",
       "      <td>Tiger Global Management</td>\n",
       "    </tr>\n",
       "    <tr>\n",
       "      <th>9</th>\n",
       "      <td>Databricks</td>\n",
       "      <td>$38B</td>\n",
       "      <td>2/5/19</td>\n",
       "      <td>Data management &amp; analytics</td>\n",
       "      <td>San Francisco</td>\n",
       "      <td>United States</td>\n",
       "      <td>North America</td>\n",
       "      <td>2013</td>\n",
       "      <td>$3B</td>\n",
       "      <td>Andreessen Horowitz, New Enterprise Associates...</td>\n",
       "    </tr>\n",
       "  </tbody>\n",
       "</table>\n",
       "</div>"
      ],
      "text/plain": [
       "        Company Valuation Date Joined                             Industry  \\\n",
       "0     Bytedance     $180B      4/7/17              Artificial intelligence   \n",
       "1        SpaceX     $100B     12/1/12                                Other   \n",
       "2         SHEIN     $100B      7/3/18      E-commerce & direct-to-consumer   \n",
       "3        Stripe      $95B     1/23/14                              Fintech   \n",
       "4        Klarna      $46B    12/12/11                              Fintech   \n",
       "5         Canva      $40B      1/8/18         Internet software & services   \n",
       "6  Checkout.com      $40B      5/2/19                              Fintech   \n",
       "7     Instacart      $39B    12/30/14  Supply chain, logistics, & delivery   \n",
       "8     JUUL Labs      $38B    12/20/17                    Consumer & retail   \n",
       "9    Databricks      $38B      2/5/19          Data management & analytics   \n",
       "\n",
       "            City  Country/Region      Continent  Year Founded Funding  \\\n",
       "0        Beijing           China           Asia          2012     $8B   \n",
       "1      Hawthorne   United States  North America          2002     $7B   \n",
       "2       Shenzhen           China           Asia          2008     $2B   \n",
       "3  San Francisco   United States  North America          2010     $2B   \n",
       "4      Stockholm          Sweden         Europe          2005     $4B   \n",
       "5    Surry Hills       Australia        Oceania          2012   $572M   \n",
       "6         London  United Kingdom         Europe          2012     $2B   \n",
       "7  San Francisco   United States  North America          2012     $3B   \n",
       "8  San Francisco   United States  North America          2015    $14B   \n",
       "9  San Francisco   United States  North America          2013     $3B   \n",
       "\n",
       "                                    Select Investors  \n",
       "0  Sequoia Capital China, SIG Asia Investments, S...  \n",
       "1  Founders Fund, Draper Fisher Jurvetson, Rothen...  \n",
       "2  Tiger Global Management, Sequoia Capital China...  \n",
       "3        Khosla Ventures, LowercaseCapital, capitalG  \n",
       "4  Institutional Venture Partners, Sequoia Capita...  \n",
       "5  Sequoia Capital China, Blackbird Ventures, Mat...  \n",
       "6  Tiger Global Management, Insight Partners, DST...  \n",
       "7  Khosla Ventures, Kleiner Perkins Caufield & By...  \n",
       "8                            Tiger Global Management  \n",
       "9  Andreessen Horowitz, New Enterprise Associates...  "
      ]
     },
     "execution_count": 4,
     "metadata": {},
     "output_type": "execute_result"
    }
   ],
   "source": [
    "# Display the first 10 rows of the data.\n",
    "\n",
    "df_companies.head(10)"
   ]
  },
  {
   "cell_type": "markdown",
   "metadata": {
    "id": "49881dfd-4532-424f-9729-f5378d984df0",
    "jp-MarkdownHeadingCollapsed": true,
    "tags": []
   },
   "source": [
    "<details>\n",
    "  <summary><h4><strong>Hint 1</strong></h4></summary>\n",
    "\n",
    "Refer to the materials about exploratory data analysis in Python.\n",
    "\n",
    "</details>"
   ]
  },
  {
   "cell_type": "markdown",
   "metadata": {
    "id": "k2QxFOi9HW1Q",
    "jp-MarkdownHeadingCollapsed": true,
    "tags": []
   },
   "source": [
    "<details>\n",
    "  <summary><h4><strong>Hint 2</strong></h4></summary>\n",
    "\n",
    "  There is a function in the `pandas` library that allows you to get a specific number of rows from the top of a DataFrame.\n",
    " \n",
    "\n",
    "</details>"
   ]
  },
  {
   "cell_type": "markdown",
   "metadata": {
    "id": "ptkclWFzHjHv",
    "jp-MarkdownHeadingCollapsed": true,
    "tags": []
   },
   "source": [
    "<details>\n",
    "  <summary><h4><strong>Hint 3</strong></h4></summary>\n",
    "\n",
    "  Call the `head(10)` function from the `pandas` library. \n",
    "\n",
    "</details>"
   ]
  },
  {
   "cell_type": "markdown",
   "metadata": {
    "id": "55766062"
   },
   "source": [
    "### Statistical properties of the dataset"
   ]
  },
  {
   "cell_type": "markdown",
   "metadata": {
    "id": "6d423621-c14b-4987-a76d-feee76046144"
   },
   "source": [
    "Use methods and attributes of the dataframe to get information and descriptive statistics for the data, including its range, data types, mean values, and shape. \n"
   ]
  },
  {
   "cell_type": "code",
   "execution_count": 5,
   "metadata": {
    "id": "66809360"
   },
   "outputs": [
    {
     "data": {
      "text/plain": [
       "(1074, 10)"
      ]
     },
     "execution_count": 5,
     "metadata": {},
     "output_type": "execute_result"
    }
   ],
   "source": [
    "# Get the shape of the dataset.\n",
    "\n",
    "df_companies.shape"
   ]
  },
  {
   "cell_type": "markdown",
   "metadata": {
    "id": "56bce251"
   },
   "source": [
    "<details>\n",
    "  <summary><h4><strong>Hint 1</strong></h4></summary>\n",
    "\n",
    "Refer to the material about exploratory data analysis in Python.\n",
    "\n",
    "</details>"
   ]
  },
  {
   "cell_type": "markdown",
   "metadata": {
    "id": "9fb64cb2"
   },
   "source": [
    "<details>\n",
    "  <summary><h4><strong>Hint 2</strong></h4></summary>\n",
    "\n",
    "  Call the `shape` attribute of the dataframe.\n",
    "\n",
    "</details>"
   ]
  },
  {
   "cell_type": "markdown",
   "metadata": {
    "id": "0f7a87f9"
   },
   "source": [
    "**Question: What is the shape of the dataset?**"
   ]
  },
  {
   "cell_type": "markdown",
   "metadata": {
    "id": "FS9XVrkhSkl1"
   },
   "source": [
    "[Write your response here. Double-click (or enter) to edit.]"
   ]
  },
  {
   "cell_type": "code",
   "execution_count": 6,
   "metadata": {
    "id": "9d85fc26"
   },
   "outputs": [
    {
     "name": "stdout",
     "output_type": "stream",
     "text": [
      "<class 'pandas.core.frame.DataFrame'>\n",
      "RangeIndex: 1074 entries, 0 to 1073\n",
      "Data columns (total 10 columns):\n",
      " #   Column            Non-Null Count  Dtype \n",
      "---  ------            --------------  ----- \n",
      " 0   Company           1074 non-null   object\n",
      " 1   Valuation         1074 non-null   object\n",
      " 2   Date Joined       1074 non-null   object\n",
      " 3   Industry          1074 non-null   object\n",
      " 4   City              1058 non-null   object\n",
      " 5   Country/Region    1074 non-null   object\n",
      " 6   Continent         1074 non-null   object\n",
      " 7   Year Founded      1074 non-null   int64 \n",
      " 8   Funding           1074 non-null   object\n",
      " 9   Select Investors  1073 non-null   object\n",
      "dtypes: int64(1), object(9)\n",
      "memory usage: 84.0+ KB\n"
     ]
    }
   ],
   "source": [
    "# Get the data types and number of non-null values in the dataset.\n",
    "\n",
    "df_companies.dtypes\n",
    "df_companies.info()"
   ]
  },
  {
   "cell_type": "markdown",
   "metadata": {
    "id": "0Nu8nXobIXt9"
   },
   "source": [
    "<details>\n",
    "  <summary><h4><strong>Hint 1</strong></h4></summary>\n",
    "\n",
    "Refer to the material about exploratory data analysis in Python.\n",
    "\n",
    "</details>"
   ]
  },
  {
   "cell_type": "markdown",
   "metadata": {
    "id": "461c4c42"
   },
   "source": [
    "<details>\n",
    "  <summary><h4><strong>Hint 2</strong></h4></summary>\n",
    "\n",
    "  Use the `info()` method.\n",
    "\n",
    "</details>"
   ]
  },
  {
   "cell_type": "markdown",
   "metadata": {
    "id": "m2CDG1n_IXt9"
   },
   "source": [
    "**Question: What are the data types of various columns?**\n"
   ]
  },
  {
   "cell_type": "markdown",
   "metadata": {
    "id": "su74q1ZjSoO7"
   },
   "source": [
    "Object"
   ]
  },
  {
   "cell_type": "markdown",
   "metadata": {
    "id": "jlp9whhwIXt9"
   },
   "source": [
    "**Question: How many columns contain non-null values?**"
   ]
  },
  {
   "cell_type": "markdown",
   "metadata": {
    "id": "QHKFOOKwSqil"
   },
   "source": [
    "two, City and 'Select Investors'"
   ]
  },
  {
   "cell_type": "code",
   "execution_count": 7,
   "metadata": {
    "id": "sfR-1rlkIXt-"
   },
   "outputs": [
    {
     "data": {
      "text/html": [
       "<div>\n",
       "<style scoped>\n",
       "    .dataframe tbody tr th:only-of-type {\n",
       "        vertical-align: middle;\n",
       "    }\n",
       "\n",
       "    .dataframe tbody tr th {\n",
       "        vertical-align: top;\n",
       "    }\n",
       "\n",
       "    .dataframe thead th {\n",
       "        text-align: right;\n",
       "    }\n",
       "</style>\n",
       "<table border=\"1\" class=\"dataframe\">\n",
       "  <thead>\n",
       "    <tr style=\"text-align: right;\">\n",
       "      <th></th>\n",
       "      <th>Year Founded</th>\n",
       "    </tr>\n",
       "  </thead>\n",
       "  <tbody>\n",
       "    <tr>\n",
       "      <th>count</th>\n",
       "      <td>1074.000000</td>\n",
       "    </tr>\n",
       "    <tr>\n",
       "      <th>mean</th>\n",
       "      <td>2012.895717</td>\n",
       "    </tr>\n",
       "    <tr>\n",
       "      <th>std</th>\n",
       "      <td>5.698573</td>\n",
       "    </tr>\n",
       "    <tr>\n",
       "      <th>min</th>\n",
       "      <td>1919.000000</td>\n",
       "    </tr>\n",
       "    <tr>\n",
       "      <th>25%</th>\n",
       "      <td>2011.000000</td>\n",
       "    </tr>\n",
       "    <tr>\n",
       "      <th>50%</th>\n",
       "      <td>2014.000000</td>\n",
       "    </tr>\n",
       "    <tr>\n",
       "      <th>75%</th>\n",
       "      <td>2016.000000</td>\n",
       "    </tr>\n",
       "    <tr>\n",
       "      <th>max</th>\n",
       "      <td>2021.000000</td>\n",
       "    </tr>\n",
       "  </tbody>\n",
       "</table>\n",
       "</div>"
      ],
      "text/plain": [
       "       Year Founded\n",
       "count   1074.000000\n",
       "mean    2012.895717\n",
       "std        5.698573\n",
       "min     1919.000000\n",
       "25%     2011.000000\n",
       "50%     2014.000000\n",
       "75%     2016.000000\n",
       "max     2021.000000"
      ]
     },
     "execution_count": 7,
     "metadata": {},
     "output_type": "execute_result"
    }
   ],
   "source": [
    "# Get descriptive statistics such as mean, standard deviation, and range of the numerical columns in the dataset.\n",
    "\n",
    "df_companies.describe()"
   ]
  },
  {
   "cell_type": "markdown",
   "metadata": {
    "id": "eVxeOh6Ll2p1",
    "jp-MarkdownHeadingCollapsed": true,
    "tags": []
   },
   "source": [
    "<details>\n",
    "  <summary><h4><strong>Hint 1</strong></h4></summary>\n",
    "\n",
    "Refer to the material about exploratory data analysis in Python.\n",
    "\n",
    "</details>"
   ]
  },
  {
   "cell_type": "markdown",
   "metadata": {
    "id": "D2xvy5HKl2p3",
    "jp-MarkdownHeadingCollapsed": true,
    "tags": []
   },
   "source": [
    "<details>\n",
    "  <summary><h4><strong>Hint 2</strong></h4></summary>\n",
    "\n",
    "  There is a function in the `pandas` library that allows you to find descriptive statistics for the numeric columns in a DataFrame.\n",
    " \n",
    "\n",
    "</details>"
   ]
  },
  {
   "cell_type": "markdown",
   "metadata": {
    "id": "wDvuKFJLl2p4",
    "jp-MarkdownHeadingCollapsed": true,
    "tags": []
   },
   "source": [
    "<details>\n",
    "  <summary><h4><strong>Hint 3</strong></h4></summary>\n",
    "\n",
    "  Call the `describe()` function from the `pandas` library.\n",
    "\n",
    "</details>"
   ]
  },
  {
   "cell_type": "markdown",
   "metadata": {
    "id": "23f7e167"
   },
   "source": [
    "**Question: In what year was the oldest company founded?**"
   ]
  },
  {
   "cell_type": "markdown",
   "metadata": {
    "id": "wBrQSH8VSt0T"
   },
   "source": [
    "[Write your response here. Double-click (or enter) to edit.]"
   ]
  },
  {
   "cell_type": "markdown",
   "metadata": {
    "id": "a885babf"
   },
   "source": [
    "### Data Preprocessing"
   ]
  },
  {
   "cell_type": "markdown",
   "metadata": {
    "id": "f46cb991"
   },
   "source": [
    "In order to answer the investor's questions, some data preprocessing steps are required. The first step is to add a new column to the dataframe containing just the year each company became a unicorn company. Call this new column `Year Joined`. "
   ]
  },
  {
   "cell_type": "code",
   "execution_count": 8,
   "metadata": {
    "id": "15bfeecc"
   },
   "outputs": [],
   "source": [
    "# Create a new column \"Year Joined\" from \"Date Joined\".\n",
    "df_companies['Date Joined']=pd.to_datetime(df_companies['Date Joined'])\n",
    "df_companies['Year Joined']=df_companies['Date Joined'].dt.year"
   ]
  },
  {
   "cell_type": "markdown",
   "metadata": {
    "id": "5949c474"
   },
   "source": [
    "For each country, you want to calculate the sum of all valuations of companies from that country. However, in order to do this, you'll need to first prepare the data. Currently, the data in the `Valuation` column is a string that starts with a `$` and ends with a `B`. Because this column is not in a numeric datatype, pandas cannot perform mathematical operations on its values. The data in this column needs to be converted to a numeric datatype. \n",
    "\n",
    "In this step, define a function called `str_to_num()` that accepts as an argument:\n",
    "\n",
    "* `x`: a string in the format of the values contained in the `Valuation` column\n",
    "\n",
    "And returns:\n",
    "\n",
    "* `x`: an `int` of the number represented by the input string\n",
    "\n",
    "```\n",
    "Example:\n",
    "\n",
    " [IN]:  str_to_num('$4B')\n",
    "[OUT]:  4\n",
    "\n",
    "```\n",
    "\n",
    "\n",
    "To do this, use the string [`strip()`](https://docs.python.org/3/library/stdtypes.html#str.strip) method. This method is applied to a string. Its argument is a string that contains all the characters that you want to remove from the beginning and end of a given string&mdash;in any order. The specified characters will be removed until a valid character is encountered. This process is applied moving forward from the beginning of the string and also moving in reverse from the end of the string, thus removing unwanted beginning and trailing characters.\n",
    "\n",
    "```\n",
    "Example:\n",
    "\n",
    " [IN]:  my_string = '#....... Section 3.2.1 Issue #32 .......'\n",
    "        my_string = my_string.strip('.#! ')\n",
    "        print(my_string)\n",
    "\n",
    "[OUT]:  'Section 3.2.1 Issue #32'\n",
    "\n",
    "```\n",
    "\n",
    "Note that you must reassign the result back to a variable or else the change will not be permanent. "
   ]
  },
  {
   "cell_type": "code",
   "execution_count": 9,
   "metadata": {
    "id": "1856c3c8-dd7e-4b0f-8e30-06e8ed6b9885"
   },
   "outputs": [],
   "source": [
    "# Define the `str_to_num()` function\n",
    "\n",
    "### YOUR CODE HERE ###\n",
    "def str_to_num(val):\n",
    " x=val.strip('B$')\n",
    " return x"
   ]
  },
  {
   "cell_type": "markdown",
   "metadata": {
    "id": "d97f7147"
   },
   "source": [
    "<details>\n",
    "  <summary><h4><strong>Hint 1</strong></h4></summary>\n",
    "\n",
    "The unwanted characters in the values contained in the `Valuation` column are `'$'` and `'B'`.\n",
    "    \n",
    "</details>"
   ]
  },
  {
   "cell_type": "markdown",
   "metadata": {},
   "source": [
    "<details>\n",
    "  <summary><h4><strong>Hint 2</strong></h4></summary>\n",
    "\n",
    "Pass a string of the unwanted values as an argument to the `strip()` string method.\n",
    "    \n",
    "</details>"
   ]
  },
  {
   "cell_type": "markdown",
   "metadata": {},
   "source": [
    "<details>\n",
    "  <summary><h4><strong>Hint 3</strong></h4></summary>\n",
    "\n",
    "The final step before returning `x` should be converting it to an integer.\n",
    "    \n",
    "</details>"
   ]
  },
  {
   "cell_type": "markdown",
   "metadata": {},
   "source": [
    "Now, use this function to create a new column called `valuation_num` that represents the `Valuation` column as an integer value. To do this, use the series method [`apply()`](https://pandas.pydata.org/docs/reference/api/pandas.Series.apply.html) to apply the `str_to_num()` function to the `Valuation` column.\n",
    "\n",
    "`apply()` is a method that can be used on a `DataFrame` or `Series` object. In this case, you're using it on the `Valuation` series. The method accepts a function as an argument and applies that function to each value in the series.\n",
    "\n",
    "```\n",
    "Example:\n",
    "\n",
    " [IN]: def square(x):\n",
    "           return x ** 2\n",
    "\n",
    "       my_series = pd.Series([0, 1, 2, 3])\n",
    "       my_series\n",
    "\n",
    "[OUT]: 0    0\n",
    "       1    1\n",
    "       2    2\n",
    "       3    3\n",
    "       dtype: int64\n",
    "\n",
    " [IN]: my_series = my_series.apply(square)\n",
    "       my_series\n",
    "\n",
    "[OUT]: 0    0\n",
    "       1    1\n",
    "       2    4\n",
    "       3    9\n",
    "       dtype: int64\n",
    "```\n",
    "\n",
    "Notice that the function passed as an argument to the `apply()` method does not have parentheses. It's just the function name."
   ]
  },
  {
   "cell_type": "code",
   "execution_count": 10,
   "metadata": {},
   "outputs": [],
   "source": [
    "# Apply the `str_to_num()` function to the `Valuation` column\n",
    "# and assign the result back to a new column called `valuation_num`\n",
    "\n",
    "### YOUR CODE HERE ###\n",
    "stripped=pd.Series(df_companies['Valuation'])\n",
    "df_companies['valuation_num']=stripped.apply(str_to_num)"
   ]
  },
  {
   "cell_type": "markdown",
   "metadata": {
    "id": "b27ef252"
   },
   "source": [
    "### Find missing values"
   ]
  },
  {
   "cell_type": "markdown",
   "metadata": {
    "id": "9bad4e67"
   },
   "source": [
    "The unicorn companies dataset is fairly clean, with few missing values. "
   ]
  },
  {
   "cell_type": "code",
   "execution_count": 11,
   "metadata": {
    "id": "939ded7d"
   },
   "outputs": [
    {
     "data": {
      "text/plain": [
       "Company              0\n",
       "Valuation            0\n",
       "Date Joined          0\n",
       "Industry             0\n",
       "City                16\n",
       "Country/Region       0\n",
       "Continent            0\n",
       "Year Founded         0\n",
       "Funding              0\n",
       "Select Investors     1\n",
       "Year Joined          0\n",
       "valuation_num        0\n",
       "dtype: int64"
      ]
     },
     "execution_count": 11,
     "metadata": {},
     "output_type": "execute_result"
    }
   ],
   "source": [
    "# Find the number of missing values in each column in this dataset.\n",
    "\n",
    "### YOUR CODE HERE ###\n",
    "df_companies.isnull().sum()\n"
   ]
  },
  {
   "cell_type": "markdown",
   "metadata": {},
   "source": [
    "<details>\n",
    "  <summary><h4><strong>Hint 1</strong></h4></summary>\n",
    "\n",
    "The `isna()` `DataFrame` method will return a dataframe of Boolean values in the same shape as your original dataframe. Values are `True` if the data is missing and `False` if it is not missing.\n",
    "    \n",
    "</details>"
   ]
  },
  {
   "cell_type": "markdown",
   "metadata": {},
   "source": [
    "<details>\n",
    "  <summary><h4><strong>Hint 2</strong></h4></summary>\n",
    "\n",
    "You'll need to convert Boolean values into numerical values. Remember that `True` values are considered `1` and `False` values are considered `0`.\n",
    "    \n",
    "</details>"
   ]
  },
  {
   "cell_type": "markdown",
   "metadata": {},
   "source": [
    "<details>\n",
    "  <summary><h4><strong>Hint 3</strong></h4></summary>\n",
    "\n",
    "After applying the `isna()` method to the `df_companies` dataframe, apply the `sum()` method to the results to return a pandas `Series` object with each column name and the number of `NaN` values it contains.\n",
    "    \n",
    "</details>"
   ]
  },
  {
   "cell_type": "markdown",
   "metadata": {
    "id": "a99680f5"
   },
   "source": [
    " **Question: How many missing values are in each column in the dataset?**"
   ]
  },
  {
   "cell_type": "markdown",
   "metadata": {
    "id": "T_JQnZ5uS4Pm"
   },
   "source": [
    "16 in City\n",
    "1 in 'Select Investors'"
   ]
  },
  {
   "cell_type": "markdown",
   "metadata": {
    "id": "e1e91864"
   },
   "source": [
    "### Review rows with missing values"
   ]
  },
  {
   "cell_type": "markdown",
   "metadata": {
    "id": "84a779e9"
   },
   "source": [
    "Before dealing with missing values, it's important to understand the nature of the missing value that is being filled. Display all rows with missing values from `df_companies`. To do this, perform the following three steps:\n",
    "\n",
    "1. Apply the `isna()` method to the `df_companies` dataframe as you did in the last step. Remember, this results in a dataframe of the same shape as `df_companies` where each value is `True` if its contents are `NaN` and a `False` if its contents are not `NaN`. Assign the results to a variable called `mask`."
   ]
  },
  {
   "cell_type": "code",
   "execution_count": 12,
   "metadata": {},
   "outputs": [],
   "source": [
    "# 1. Apply the `isna()` method to the `df_companies` dataframe and assign back to `mask`\n",
    "\n",
    "### YOUR CODE HERE ###\n",
    "mask=df_companies.isna()"
   ]
  },
  {
   "cell_type": "markdown",
   "metadata": {},
   "source": [
    "You're not done yet. You still need to go from this dataframe of Boolean values to a dataframe of just the rows of `df_companies` that contain at least one `NaN` value. This means that you need a way to find the indices of the rows of the Boolean dataframe that contain at least one `True` value, then extract those indices from `df_companies`. \n",
    "\n",
    "You can do this using the [`any()`](https://pandas.pydata.org/docs/reference/api/pandas.DataFrame.any.html) method for `DataFrame` objects. This method returns a Boolean `Series` indicating whether any value is `True` over a specified axis.\n",
    "\n",
    "```\n",
    "Example:\n",
    "\n",
    "df =     \n",
    "        A      B    C\n",
    "    0   0      a    10\n",
    "    1   False  0    1\n",
    "    2   NaN    NaN  NaN\n",
    "\n",
    "\n",
    " [IN]: df.any(axis=0)\n",
    "\n",
    "[OUT]: A    False\n",
    "       B     True\n",
    "       C     True\n",
    "       dtype: bool\n",
    "       \n",
    " [IN]: df.any(axis=1)\n",
    " \n",
    "[OUT]: 0     True\n",
    "       1     True\n",
    "       2    False\n",
    "       dtype: bool\n",
    "```\n",
    "\n",
    "Note that `0`, `False`, and `NaN` are considered `False` and anything else is considered `True`. \n",
    "\n",
    "2. Apply the `any()` method to the Boolean dataframe you created to make a Boolean series where each element in the series represents `True` if a row of the dataframe contains any `True` values and `False` if any row in the dataframe contains any `False` values. Assign the results back to `mask`."
   ]
  },
  {
   "cell_type": "code",
   "execution_count": 13,
   "metadata": {},
   "outputs": [],
   "source": [
    "# 2. Apply the `any()` method to `mask` and assign the results back to `mask`\n",
    "\n",
    "### YOUR CODE HERE ###\n",
    "mask=mask.any(axis=0)"
   ]
  },
  {
   "cell_type": "markdown",
   "metadata": {},
   "source": [
    "<details>\n",
    "  <summary><h4><strong>Hint 1</strong></h4></summary>\n",
    "\n",
    "Refer to the example given for how to use the `any()` method for dataframes.\n",
    "    \n",
    "</details>"
   ]
  },
  {
   "cell_type": "markdown",
   "metadata": {},
   "source": [
    "<details>\n",
    "  <summary><h4><strong>Hint 2</strong></h4></summary>\n",
    "\n",
    "Using the provided example as a guide, which axis returns **rows** that have at least one `True` value?\n",
    "    \n",
    "</details>"
   ]
  },
  {
   "cell_type": "markdown",
   "metadata": {},
   "source": [
    "<details>\n",
    "  <summary><h4><strong>Hint 3</strong></h4></summary>\n",
    "\n",
    "`mask.any(axis=1)` will return a Boolean series that represents whether each row of `mask` contains at least one `True` value. \n",
    "    \n",
    "</details>"
   ]
  },
  {
   "cell_type": "markdown",
   "metadata": {},
   "source": [
    "3. Because `mask` is now a series of Boolean values, you can use it as a Boolean mask. Apply the Boolean mask to the `df_companies` dataframe to return a filtered dataframe containing just the rows that contain a missing value. Assign the results to a variable called `df_missing_rows`."
   ]
  },
  {
   "cell_type": "code",
   "execution_count": 23,
   "metadata": {},
   "outputs": [],
   "source": [
    "# 3. Apply `mask` as a Boolean mask to `df_companies` and assign results to `df_missing_rows`\n",
    "\n",
    "### YOUR CODE HERE ###\n",
    "df_missing_rows=df_companies.mask(mask)"
   ]
  },
  {
   "cell_type": "markdown",
   "metadata": {
    "id": "d267da5d"
   },
   "source": [
    "**Question: Is there a specific country/region that shows up a lot in this missing values dataframe? Which one?**\n"
   ]
  },
  {
   "cell_type": "markdown",
   "metadata": {
    "id": "I6Wfa6A0TB1r"
   },
   "source": [
    "[Write your response here. Double-click (or enter) to edit.]"
   ]
  },
  {
   "cell_type": "markdown",
   "metadata": {},
   "source": [
    "**Question: What steps did you take to find missing data?**\n"
   ]
  },
  {
   "cell_type": "markdown",
   "metadata": {},
   "source": [
    "[Write your response here. Double-click (or enter) to edit.]"
   ]
  },
  {
   "cell_type": "markdown",
   "metadata": {},
   "source": [
    "**Question: What observations can be made about the forms and context of missing data?**\n"
   ]
  },
  {
   "cell_type": "markdown",
   "metadata": {},
   "source": [
    "[Write your response here. Double-click (or enter) to edit.]"
   ]
  },
  {
   "cell_type": "markdown",
   "metadata": {},
   "source": [
    "**Question: What other methods could you use to address missing data?**\n"
   ]
  },
  {
   "cell_type": "markdown",
   "metadata": {},
   "source": [
    "[Write your response here. Double-click (or enter) to edit.]"
   ]
  },
  {
   "cell_type": "markdown",
   "metadata": {
    "id": "34021f9c"
   },
   "source": [
    "## Step 3: Model building\n",
    "\n",
    "Think of the model you are building as the completed dataset, which you will then use to inform the questions the investor has asked of you.  "
   ]
  },
  {
   "cell_type": "markdown",
   "metadata": {
    "id": "1b7ff426"
   },
   "source": [
    "### Two ways to address missing values\n",
    "\n",
    "There are several ways to address missing values, which is critical in EDA. The two primary methods are removing them and imputing other values in their place. Choosing the proper method depends on the business problem and the value the solution will add or take away from the dataset.\n",
    "\n",
    "Here, you will try both. "
   ]
  },
  {
   "cell_type": "markdown",
   "metadata": {},
   "source": [
    "To compare the the effect of different actions, first store the original number of values in a variable. Create a variable called `count_total` that is an integer representing the total number of values in `df_companies`. For example, if the dataframe had 5 rows and 2 columns, then this number would be 10."
   ]
  },
  {
   "cell_type": "code",
   "execution_count": 14,
   "metadata": {
    "id": "cd63abb1"
   },
   "outputs": [],
   "source": [
    "# Store the total number of values in a variable called `count_total`\n",
    "\n",
    "count_total = df_companies.size\n"
   ]
  },
  {
   "cell_type": "markdown",
   "metadata": {},
   "source": [
    "Now, remove all rows containing missing values and store the total number of remaining values in a variable called `count_dropna_rows`."
   ]
  },
  {
   "cell_type": "code",
   "execution_count": 18,
   "metadata": {},
   "outputs": [],
   "source": [
    "# Drop the rows containing missing values, determine number of remaining values \n",
    "\n",
    "count_dropna_rows = df_companies.dropna().size"
   ]
  },
  {
   "cell_type": "markdown",
   "metadata": {
    "id": "M39xpV4BIXuC"
   },
   "source": [
    "<details>\n",
    "  <summary><h4><strong>Hint</strong></h4></summary>\n",
    "\n",
    "  Use the `dropna()` dataframe method to drop rows with missing values.\n",
    "\n",
    "</details>"
   ]
  },
  {
   "cell_type": "markdown",
   "metadata": {},
   "source": [
    "Now, remove all columns containing missing values and store the total number of cells in a variable called `count_dropna_columns`."
   ]
  },
  {
   "cell_type": "code",
   "execution_count": 19,
   "metadata": {},
   "outputs": [],
   "source": [
    "# Drop the columns containing missing values, determine number of remaining values\n",
    "\n",
    "count_dropna_columns = df_companies.dropna(axis=1).size"
   ]
  },
  {
   "cell_type": "markdown",
   "metadata": {},
   "source": [
    "<details>\n",
    "  <summary><h4><strong>Hint</strong></h4></summary>\n",
    "\n",
    "Specify `axis=1` to the `dropna()` method to drop columns with missing values.\n",
    "\n",
    "</details>"
   ]
  },
  {
   "cell_type": "markdown",
   "metadata": {},
   "source": [
    "Next, print the percentage of values removed by each method and compare them."
   ]
  },
  {
   "cell_type": "code",
   "execution_count": 22,
   "metadata": {},
   "outputs": [
    {
     "name": "stdout",
     "output_type": "stream",
     "text": [
      "98.42%\n",
      "83.33%\n"
     ]
    }
   ],
   "source": [
    "# Print the percentage of values removed by dropping rows.\n",
    "\n",
    "print('{}%'.format(str(round(count_dropna_rows/count_total*100,2))))\n",
    "\n",
    "# Print the percentage of values removed by dropping columns.\n",
    "\n",
    "print('{}%'.format(str(round(count_dropna_columns/count_total*100,2))))\n"
   ]
  },
  {
   "cell_type": "markdown",
   "metadata": {
    "id": "bb93f8fb"
   },
   "source": [
    "**Question: Which method was most effective? Why?**\n"
   ]
  },
  {
   "cell_type": "markdown",
   "metadata": {
    "id": "U4qVEZgBTGp9"
   },
   "source": [
    "dropping columns."
   ]
  },
  {
   "cell_type": "markdown",
   "metadata": {
    "id": "mho08fTcTMSq"
   },
   "source": [
    "Now, practice the second method: imputation. Perform the following steps:\n",
    "\n",
    "1. Use the [`fillna()`](https://pandas.pydata.org/docs/reference/api/pandas.DataFrame.fillna.html#pandas.DataFrame.fillna) dataframe method to fill each missing value with the next non-NaN value in its column. Assign the results to a new dataframe called `df_companies_backfill`.\n",
    "\n",
    "```\n",
    "Example:\n",
    "\n",
    "df =     \n",
    "        A    B    C\n",
    "    0   5    a    NaN\n",
    "    1   10   NaN  False\n",
    "    2   NaN  c    True\n",
    "\n",
    " [IN]: df.fillna(method='backfill')\n",
    " \n",
    "[OUT]: \n",
    "        A    B    C\n",
    "    0   5    a    False\n",
    "    1   10   c    False\n",
    "    2   NaN  c    True\n",
    "\n",
    "```\n",
    "\n",
    "Notice that if there is a `NaN` value in the last row, it will not backfill because there is no subsequent value in the column to refer to. \n",
    "\n",
    "2. Show the rows that previously had missing values."
   ]
  },
  {
   "cell_type": "code",
   "execution_count": 38,
   "metadata": {},
   "outputs": [
    {
     "name": "stdout",
     "output_type": "stream",
     "text": [
      "                         Company Valuation Date Joined  \\\n",
      "12                           FTX      $32B  2021-07-20   \n",
      "170                    HyalRoute       $4B  2020-05-26   \n",
      "242                       Moglix       $3B  2021-05-17   \n",
      "251                         Trax       $3B  2019-07-22   \n",
      "325                  Amber Group       $3B  2021-06-21   \n",
      "382                    Ninja Van       $2B  2021-09-27   \n",
      "541   Advance Intelligence Group       $2B  2021-09-23   \n",
      "629             LinkSure Network       $1B  2015-01-01   \n",
      "811                    Carousell       $1B  2021-09-15   \n",
      "848                   Matrixport       $1B  2021-06-01   \n",
      "880                     bolttech       $1B  2021-07-01   \n",
      "889                        Carro       $1B  2021-06-14   \n",
      "893                        Cider       $1B  2021-09-02   \n",
      "980                         NIUM       $1B  2021-07-13   \n",
      "986                          ONE       $1B  2021-12-08   \n",
      "994                      PatSnap       $1B  2021-03-16   \n",
      "1061                       WeLab       $1B  2017-11-08   \n",
      "\n",
      "                                 Industry      City Country/Region  \\\n",
      "12                                Fintech       NaN        Bahamas   \n",
      "170           Mobile & telecommunications       NaN      Singapore   \n",
      "242       E-commerce & direct-to-consumer       NaN      Singapore   \n",
      "251               Artificial intelligence       NaN      Singapore   \n",
      "325                               Fintech       NaN      Hong Kong   \n",
      "382   Supply chain, logistics, & delivery       NaN      Singapore   \n",
      "541               Artificial intelligence       NaN      Singapore   \n",
      "629           Mobile & telecommunications  Shanghai          China   \n",
      "811       E-commerce & direct-to-consumer       NaN      Singapore   \n",
      "848                               Fintech       NaN      Singapore   \n",
      "880                               Fintech       NaN      Singapore   \n",
      "889       E-commerce & direct-to-consumer       NaN      Singapore   \n",
      "893       E-commerce & direct-to-consumer       NaN      Hong Kong   \n",
      "980                               Fintech       NaN      Singapore   \n",
      "986          Internet software & services       NaN      Singapore   \n",
      "994          Internet software & services       NaN      Singapore   \n",
      "1061                              Fintech       NaN      Hong Kong   \n",
      "\n",
      "          Continent  Year Founded Funding  \\\n",
      "12    North America          2018     $2B   \n",
      "170            Asia          2015   $263M   \n",
      "242            Asia          2015   $471M   \n",
      "251            Asia          2010     $1B   \n",
      "325            Asia          2015   $328M   \n",
      "382            Asia          2014   $975M   \n",
      "541            Asia          2016   $536M   \n",
      "629            Asia          2013    $52M   \n",
      "811            Asia          2012   $288M   \n",
      "848            Asia          2019   $100M   \n",
      "880            Asia          2018   $210M   \n",
      "889            Asia          2015   $595M   \n",
      "893            Asia          2020   $140M   \n",
      "980            Asia          2014   $285M   \n",
      "986            Asia          2011   $515M   \n",
      "994            Asia          2007   $352M   \n",
      "1061           Asia          2013   $871M   \n",
      "\n",
      "                                       Select Investors  Year Joined  \\\n",
      "12               Sequoia Capital, Thoma Bravo, Softbank         2021   \n",
      "170                                           Kuang-Chi         2020   \n",
      "242             Jungle Ventures, Accel, Venture Highway         2021   \n",
      "251   Hopu Investment Management, Boyu Capital, DC T...         2019   \n",
      "325   Tiger Global Management, Tiger Brokers, DCM Ve...         2021   \n",
      "382   B Capital Group, Monk's Hill Ventures, Dynamic...         2021   \n",
      "541         Vision Plus Capital, GSR Ventures, ZhenFund         2021   \n",
      "629                                                 NaN         2015   \n",
      "811   500 Global, Rakuten Ventures, Golden Gate Vent...         2021   \n",
      "848   Dragonfly Captial, Qiming Venture Partners, DS...         2021   \n",
      "880   Mundi Ventures, Doqling Capital Partners, Acti...         2021   \n",
      "889   SingTel Innov8, Alpha JWC Ventures, Golden Gat...         2021   \n",
      "893        Andreessen Horowitz, DST Global, IDG Capital         2021   \n",
      "980   Vertex Ventures SE Asia, Global Founders Capit...         2021   \n",
      "986   Temasek, Guggenheim Investments, Qatar Investm...         2021   \n",
      "994   Sequoia Capital China, Shunwei Capital Partner...         2021   \n",
      "1061  Sequoia Capital China, ING, Alibaba Entreprene...         2017   \n",
      "\n",
      "     valuation_num  \n",
      "12              32  \n",
      "170              4  \n",
      "242              3  \n",
      "251              3  \n",
      "325              3  \n",
      "382              2  \n",
      "541              2  \n",
      "629              1  \n",
      "811              1  \n",
      "848              1  \n",
      "880              1  \n",
      "889              1  \n",
      "893              1  \n",
      "980              1  \n",
      "986              1  \n",
      "994              1  \n",
      "1061             1  \n"
     ]
    },
    {
     "data": {
      "text/html": [
       "<div>\n",
       "<style scoped>\n",
       "    .dataframe tbody tr th:only-of-type {\n",
       "        vertical-align: middle;\n",
       "    }\n",
       "\n",
       "    .dataframe tbody tr th {\n",
       "        vertical-align: top;\n",
       "    }\n",
       "\n",
       "    .dataframe thead th {\n",
       "        text-align: right;\n",
       "    }\n",
       "</style>\n",
       "<table border=\"1\" class=\"dataframe\">\n",
       "  <thead>\n",
       "    <tr style=\"text-align: right;\">\n",
       "      <th></th>\n",
       "      <th>Company</th>\n",
       "      <th>Valuation</th>\n",
       "      <th>Date Joined</th>\n",
       "      <th>Industry</th>\n",
       "      <th>City</th>\n",
       "      <th>Country/Region</th>\n",
       "      <th>Continent</th>\n",
       "      <th>Year Founded</th>\n",
       "      <th>Funding</th>\n",
       "      <th>Select Investors</th>\n",
       "      <th>Year Joined</th>\n",
       "      <th>valuation_num</th>\n",
       "    </tr>\n",
       "  </thead>\n",
       "  <tbody>\n",
       "    <tr>\n",
       "      <th>12</th>\n",
       "      <td>FTX</td>\n",
       "      <td>$32B</td>\n",
       "      <td>2021-07-20</td>\n",
       "      <td>Fintech</td>\n",
       "      <td>Jacksonville</td>\n",
       "      <td>Bahamas</td>\n",
       "      <td>North America</td>\n",
       "      <td>2018</td>\n",
       "      <td>$2B</td>\n",
       "      <td>Sequoia Capital, Thoma Bravo, Softbank</td>\n",
       "      <td>2021</td>\n",
       "      <td>32</td>\n",
       "    </tr>\n",
       "    <tr>\n",
       "      <th>170</th>\n",
       "      <td>HyalRoute</td>\n",
       "      <td>$4B</td>\n",
       "      <td>2020-05-26</td>\n",
       "      <td>Mobile &amp; telecommunications</td>\n",
       "      <td>El Segundo</td>\n",
       "      <td>Singapore</td>\n",
       "      <td>Asia</td>\n",
       "      <td>2015</td>\n",
       "      <td>$263M</td>\n",
       "      <td>Kuang-Chi</td>\n",
       "      <td>2020</td>\n",
       "      <td>4</td>\n",
       "    </tr>\n",
       "    <tr>\n",
       "      <th>242</th>\n",
       "      <td>Moglix</td>\n",
       "      <td>$3B</td>\n",
       "      <td>2021-05-17</td>\n",
       "      <td>E-commerce &amp; direct-to-consumer</td>\n",
       "      <td>San Francisco</td>\n",
       "      <td>Singapore</td>\n",
       "      <td>Asia</td>\n",
       "      <td>2015</td>\n",
       "      <td>$471M</td>\n",
       "      <td>Jungle Ventures, Accel, Venture Highway</td>\n",
       "      <td>2021</td>\n",
       "      <td>3</td>\n",
       "    </tr>\n",
       "    <tr>\n",
       "      <th>251</th>\n",
       "      <td>Trax</td>\n",
       "      <td>$3B</td>\n",
       "      <td>2019-07-22</td>\n",
       "      <td>Artificial intelligence</td>\n",
       "      <td>Amsterdam</td>\n",
       "      <td>Singapore</td>\n",
       "      <td>Asia</td>\n",
       "      <td>2010</td>\n",
       "      <td>$1B</td>\n",
       "      <td>Hopu Investment Management, Boyu Capital, DC T...</td>\n",
       "      <td>2019</td>\n",
       "      <td>3</td>\n",
       "    </tr>\n",
       "    <tr>\n",
       "      <th>325</th>\n",
       "      <td>Amber Group</td>\n",
       "      <td>$3B</td>\n",
       "      <td>2021-06-21</td>\n",
       "      <td>Fintech</td>\n",
       "      <td>San Francisco</td>\n",
       "      <td>Hong Kong</td>\n",
       "      <td>Asia</td>\n",
       "      <td>2015</td>\n",
       "      <td>$328M</td>\n",
       "      <td>Tiger Global Management, Tiger Brokers, DCM Ve...</td>\n",
       "      <td>2021</td>\n",
       "      <td>3</td>\n",
       "    </tr>\n",
       "    <tr>\n",
       "      <th>382</th>\n",
       "      <td>Ninja Van</td>\n",
       "      <td>$2B</td>\n",
       "      <td>2021-09-27</td>\n",
       "      <td>Supply chain, logistics, &amp; delivery</td>\n",
       "      <td>San Francisco</td>\n",
       "      <td>Singapore</td>\n",
       "      <td>Asia</td>\n",
       "      <td>2014</td>\n",
       "      <td>$975M</td>\n",
       "      <td>B Capital Group, Monk's Hill Ventures, Dynamic...</td>\n",
       "      <td>2021</td>\n",
       "      <td>2</td>\n",
       "    </tr>\n",
       "    <tr>\n",
       "      <th>541</th>\n",
       "      <td>Advance Intelligence Group</td>\n",
       "      <td>$2B</td>\n",
       "      <td>2021-09-23</td>\n",
       "      <td>Artificial intelligence</td>\n",
       "      <td>Helsinki</td>\n",
       "      <td>Singapore</td>\n",
       "      <td>Asia</td>\n",
       "      <td>2016</td>\n",
       "      <td>$536M</td>\n",
       "      <td>Vision Plus Capital, GSR Ventures, ZhenFund</td>\n",
       "      <td>2021</td>\n",
       "      <td>2</td>\n",
       "    </tr>\n",
       "    <tr>\n",
       "      <th>629</th>\n",
       "      <td>LinkSure Network</td>\n",
       "      <td>$1B</td>\n",
       "      <td>2015-01-01</td>\n",
       "      <td>Mobile &amp; telecommunications</td>\n",
       "      <td>Shanghai</td>\n",
       "      <td>China</td>\n",
       "      <td>Asia</td>\n",
       "      <td>2013</td>\n",
       "      <td>$52M</td>\n",
       "      <td>Sequoia Capital India, The Times Group, GMO Ve...</td>\n",
       "      <td>2015</td>\n",
       "      <td>1</td>\n",
       "    </tr>\n",
       "    <tr>\n",
       "      <th>811</th>\n",
       "      <td>Carousell</td>\n",
       "      <td>$1B</td>\n",
       "      <td>2021-09-15</td>\n",
       "      <td>E-commerce &amp; direct-to-consumer</td>\n",
       "      <td>New York</td>\n",
       "      <td>Singapore</td>\n",
       "      <td>Asia</td>\n",
       "      <td>2012</td>\n",
       "      <td>$288M</td>\n",
       "      <td>500 Global, Rakuten Ventures, Golden Gate Vent...</td>\n",
       "      <td>2021</td>\n",
       "      <td>1</td>\n",
       "    </tr>\n",
       "    <tr>\n",
       "      <th>848</th>\n",
       "      <td>Matrixport</td>\n",
       "      <td>$1B</td>\n",
       "      <td>2021-06-01</td>\n",
       "      <td>Fintech</td>\n",
       "      <td>San Francisco</td>\n",
       "      <td>Singapore</td>\n",
       "      <td>Asia</td>\n",
       "      <td>2019</td>\n",
       "      <td>$100M</td>\n",
       "      <td>Dragonfly Captial, Qiming Venture Partners, DS...</td>\n",
       "      <td>2021</td>\n",
       "      <td>1</td>\n",
       "    </tr>\n",
       "    <tr>\n",
       "      <th>880</th>\n",
       "      <td>bolttech</td>\n",
       "      <td>$1B</td>\n",
       "      <td>2021-07-01</td>\n",
       "      <td>Fintech</td>\n",
       "      <td>Englewood</td>\n",
       "      <td>Singapore</td>\n",
       "      <td>Asia</td>\n",
       "      <td>2018</td>\n",
       "      <td>$210M</td>\n",
       "      <td>Mundi Ventures, Doqling Capital Partners, Acti...</td>\n",
       "      <td>2021</td>\n",
       "      <td>1</td>\n",
       "    </tr>\n",
       "    <tr>\n",
       "      <th>889</th>\n",
       "      <td>Carro</td>\n",
       "      <td>$1B</td>\n",
       "      <td>2021-06-14</td>\n",
       "      <td>E-commerce &amp; direct-to-consumer</td>\n",
       "      <td>Lincoln</td>\n",
       "      <td>Singapore</td>\n",
       "      <td>Asia</td>\n",
       "      <td>2015</td>\n",
       "      <td>$595M</td>\n",
       "      <td>SingTel Innov8, Alpha JWC Ventures, Golden Gat...</td>\n",
       "      <td>2021</td>\n",
       "      <td>1</td>\n",
       "    </tr>\n",
       "    <tr>\n",
       "      <th>893</th>\n",
       "      <td>Cider</td>\n",
       "      <td>$1B</td>\n",
       "      <td>2021-09-02</td>\n",
       "      <td>E-commerce &amp; direct-to-consumer</td>\n",
       "      <td>Mexico City</td>\n",
       "      <td>Hong Kong</td>\n",
       "      <td>Asia</td>\n",
       "      <td>2020</td>\n",
       "      <td>$140M</td>\n",
       "      <td>Andreessen Horowitz, DST Global, IDG Capital</td>\n",
       "      <td>2021</td>\n",
       "      <td>1</td>\n",
       "    </tr>\n",
       "    <tr>\n",
       "      <th>980</th>\n",
       "      <td>NIUM</td>\n",
       "      <td>$1B</td>\n",
       "      <td>2021-07-13</td>\n",
       "      <td>Fintech</td>\n",
       "      <td>Bengaluru</td>\n",
       "      <td>Singapore</td>\n",
       "      <td>Asia</td>\n",
       "      <td>2014</td>\n",
       "      <td>$285M</td>\n",
       "      <td>Vertex Ventures SE Asia, Global Founders Capit...</td>\n",
       "      <td>2021</td>\n",
       "      <td>1</td>\n",
       "    </tr>\n",
       "    <tr>\n",
       "      <th>986</th>\n",
       "      <td>ONE</td>\n",
       "      <td>$1B</td>\n",
       "      <td>2021-12-08</td>\n",
       "      <td>Internet software &amp; services</td>\n",
       "      <td>New York</td>\n",
       "      <td>Singapore</td>\n",
       "      <td>Asia</td>\n",
       "      <td>2011</td>\n",
       "      <td>$515M</td>\n",
       "      <td>Temasek, Guggenheim Investments, Qatar Investm...</td>\n",
       "      <td>2021</td>\n",
       "      <td>1</td>\n",
       "    </tr>\n",
       "    <tr>\n",
       "      <th>994</th>\n",
       "      <td>PatSnap</td>\n",
       "      <td>$1B</td>\n",
       "      <td>2021-03-16</td>\n",
       "      <td>Internet software &amp; services</td>\n",
       "      <td>London</td>\n",
       "      <td>Singapore</td>\n",
       "      <td>Asia</td>\n",
       "      <td>2007</td>\n",
       "      <td>$352M</td>\n",
       "      <td>Sequoia Capital China, Shunwei Capital Partner...</td>\n",
       "      <td>2021</td>\n",
       "      <td>1</td>\n",
       "    </tr>\n",
       "    <tr>\n",
       "      <th>1061</th>\n",
       "      <td>WeLab</td>\n",
       "      <td>$1B</td>\n",
       "      <td>2017-11-08</td>\n",
       "      <td>Fintech</td>\n",
       "      <td>Beijing</td>\n",
       "      <td>Hong Kong</td>\n",
       "      <td>Asia</td>\n",
       "      <td>2013</td>\n",
       "      <td>$871M</td>\n",
       "      <td>Sequoia Capital China, ING, Alibaba Entreprene...</td>\n",
       "      <td>2017</td>\n",
       "      <td>1</td>\n",
       "    </tr>\n",
       "  </tbody>\n",
       "</table>\n",
       "</div>"
      ],
      "text/plain": [
       "                         Company Valuation Date Joined  \\\n",
       "12                           FTX      $32B  2021-07-20   \n",
       "170                    HyalRoute       $4B  2020-05-26   \n",
       "242                       Moglix       $3B  2021-05-17   \n",
       "251                         Trax       $3B  2019-07-22   \n",
       "325                  Amber Group       $3B  2021-06-21   \n",
       "382                    Ninja Van       $2B  2021-09-27   \n",
       "541   Advance Intelligence Group       $2B  2021-09-23   \n",
       "629             LinkSure Network       $1B  2015-01-01   \n",
       "811                    Carousell       $1B  2021-09-15   \n",
       "848                   Matrixport       $1B  2021-06-01   \n",
       "880                     bolttech       $1B  2021-07-01   \n",
       "889                        Carro       $1B  2021-06-14   \n",
       "893                        Cider       $1B  2021-09-02   \n",
       "980                         NIUM       $1B  2021-07-13   \n",
       "986                          ONE       $1B  2021-12-08   \n",
       "994                      PatSnap       $1B  2021-03-16   \n",
       "1061                       WeLab       $1B  2017-11-08   \n",
       "\n",
       "                                 Industry           City Country/Region  \\\n",
       "12                                Fintech   Jacksonville        Bahamas   \n",
       "170           Mobile & telecommunications     El Segundo      Singapore   \n",
       "242       E-commerce & direct-to-consumer  San Francisco      Singapore   \n",
       "251               Artificial intelligence      Amsterdam      Singapore   \n",
       "325                               Fintech  San Francisco      Hong Kong   \n",
       "382   Supply chain, logistics, & delivery  San Francisco      Singapore   \n",
       "541               Artificial intelligence       Helsinki      Singapore   \n",
       "629           Mobile & telecommunications       Shanghai          China   \n",
       "811       E-commerce & direct-to-consumer       New York      Singapore   \n",
       "848                               Fintech  San Francisco      Singapore   \n",
       "880                               Fintech      Englewood      Singapore   \n",
       "889       E-commerce & direct-to-consumer        Lincoln      Singapore   \n",
       "893       E-commerce & direct-to-consumer    Mexico City      Hong Kong   \n",
       "980                               Fintech      Bengaluru      Singapore   \n",
       "986          Internet software & services       New York      Singapore   \n",
       "994          Internet software & services         London      Singapore   \n",
       "1061                              Fintech        Beijing      Hong Kong   \n",
       "\n",
       "          Continent  Year Founded Funding  \\\n",
       "12    North America          2018     $2B   \n",
       "170            Asia          2015   $263M   \n",
       "242            Asia          2015   $471M   \n",
       "251            Asia          2010     $1B   \n",
       "325            Asia          2015   $328M   \n",
       "382            Asia          2014   $975M   \n",
       "541            Asia          2016   $536M   \n",
       "629            Asia          2013    $52M   \n",
       "811            Asia          2012   $288M   \n",
       "848            Asia          2019   $100M   \n",
       "880            Asia          2018   $210M   \n",
       "889            Asia          2015   $595M   \n",
       "893            Asia          2020   $140M   \n",
       "980            Asia          2014   $285M   \n",
       "986            Asia          2011   $515M   \n",
       "994            Asia          2007   $352M   \n",
       "1061           Asia          2013   $871M   \n",
       "\n",
       "                                       Select Investors  Year Joined  \\\n",
       "12               Sequoia Capital, Thoma Bravo, Softbank         2021   \n",
       "170                                           Kuang-Chi         2020   \n",
       "242             Jungle Ventures, Accel, Venture Highway         2021   \n",
       "251   Hopu Investment Management, Boyu Capital, DC T...         2019   \n",
       "325   Tiger Global Management, Tiger Brokers, DCM Ve...         2021   \n",
       "382   B Capital Group, Monk's Hill Ventures, Dynamic...         2021   \n",
       "541         Vision Plus Capital, GSR Ventures, ZhenFund         2021   \n",
       "629   Sequoia Capital India, The Times Group, GMO Ve...         2015   \n",
       "811   500 Global, Rakuten Ventures, Golden Gate Vent...         2021   \n",
       "848   Dragonfly Captial, Qiming Venture Partners, DS...         2021   \n",
       "880   Mundi Ventures, Doqling Capital Partners, Acti...         2021   \n",
       "889   SingTel Innov8, Alpha JWC Ventures, Golden Gat...         2021   \n",
       "893        Andreessen Horowitz, DST Global, IDG Capital         2021   \n",
       "980   Vertex Ventures SE Asia, Global Founders Capit...         2021   \n",
       "986   Temasek, Guggenheim Investments, Qatar Investm...         2021   \n",
       "994   Sequoia Capital China, Shunwei Capital Partner...         2021   \n",
       "1061  Sequoia Capital China, ING, Alibaba Entreprene...         2017   \n",
       "\n",
       "     valuation_num  \n",
       "12              32  \n",
       "170              4  \n",
       "242              3  \n",
       "251              3  \n",
       "325              3  \n",
       "382              2  \n",
       "541              2  \n",
       "629              1  \n",
       "811              1  \n",
       "848              1  \n",
       "880              1  \n",
       "889              1  \n",
       "893              1  \n",
       "980              1  \n",
       "986              1  \n",
       "994              1  \n",
       "1061             1  "
      ]
     },
     "execution_count": 38,
     "metadata": {},
     "output_type": "execute_result"
    }
   ],
   "source": [
    "# 1. Fill missing values using the 'fillna()' method, back-filling\n",
    "\n",
    "nll = np.where(df_companies.isnull()) #getting the indices of rows with missing values\n",
    "df_null_rows = df_companies.iloc[nll[0]]\n",
    "print(df_null_rows)\n",
    "df_companies_backfill = df_companies.fillna(method='backfill')\n",
    "\n",
    "\n",
    "# 2. Show the rows that previously had missing values\n",
    "\n",
    "df_companies_backfill.iloc[nll[0],:]\n"
   ]
  },
  {
   "cell_type": "markdown",
   "metadata": {},
   "source": [
    "<details>\n",
    "  <summary><h4><strong>Hint 1</strong></h4></summary>\n",
    "\n",
    "To backfill missing values, refer to the example provided.\n",
    "\n",
    "</details>"
   ]
  },
  {
   "cell_type": "markdown",
   "metadata": {},
   "source": [
    "<details>\n",
    "  <summary><h4><strong>Hint 2</strong></h4></summary>\n",
    "\n",
    "To show the rows that previously had missing values, you'll need the indices of the rows that had missing values.\n",
    "\n",
    "</details>"
   ]
  },
  {
   "cell_type": "markdown",
   "metadata": {},
   "source": [
    "<details>\n",
    "  <summary><h4><strong>Hint 3</strong></h4></summary>\n",
    "\n",
    "* You already have a dataframe of rows with missing values. It's stored in a variable called `df_missing_rows`.  \n",
    "* To access its index, call `df_missing_rows.index`. This will give you the row numbers of rows with missing values.  \n",
    "* Use these index numbers in an iloc[] selection statement on the `df_companies_backfill` dataframe to extract those row numbers.\n",
    "\n",
    "</details>"
   ]
  },
  {
   "cell_type": "markdown",
   "metadata": {},
   "source": [
    "**Question: Do the values that were used to fill in for the missing values make sense?**\n"
   ]
  },
  {
   "cell_type": "markdown",
   "metadata": {},
   "source": [
    "No it doesnt."
   ]
  },
  {
   "cell_type": "markdown",
   "metadata": {},
   "source": [
    "Another option is to fill the values with a certain value, such as 'Unknown'. However, doing so doesn’t add any value to the dataset and could make finding the missing values difficult in the future. Reviewing the missing values in this dataset determines that it is fine to leave the values as they are. This also avoids adding bias to the dataset."
   ]
  },
  {
   "cell_type": "markdown",
   "metadata": {
    "id": "f09108ed"
   },
   "source": [
    "## Step 4: Results and evaluation"
   ]
  },
  {
   "cell_type": "markdown",
   "metadata": {
    "id": "2ff21c18"
   },
   "source": [
    "Now that you've addressed your missing values, provide your investor with their requested data points."
   ]
  },
  {
   "cell_type": "markdown",
   "metadata": {
    "id": "54438f3c"
   },
   "source": [
    "### Companies in the `Hardware` Industry\n",
    "\n",
    "Your investor is interested in identifying unicorn companies in the `Hardware` industry in the following cities: `Beijing`, `San Francisco`, and `London`. They are also interested in companies in the `Artificial intelligence` industry in `London`. \n",
    "\n",
    "Write a selection statement that extracts the rows that meet these criteria. This task requires complex conditional logic. Break the process into the following parts.\n",
    "\n",
    "1. Create a mask to apply to the `df_companies` dataframe. The following logic is a pseudo-code representation of how this mask could be structured.\n",
    "\n",
    "```\n",
    "((Industry==Hardware) and (City==Beijing, San Francisco, or London)) \n",
    "OR  \n",
    "((Industry==Artificial intelligence) and (City==London))\n",
    "```\n",
    "\n",
    "You're familiar with how to create Boolean masks based on conditional logic in pandas. However, you might not know how to write a conditional statement that selects rows that have _any one of several possible values_ in a given column. In this case, this is the `(City==Beijing, San Francisco, or London)` part of the expression.\n",
    "\n",
    "For this type of construction, use the [`isin()`](https://pandas.pydata.org/docs/reference/api/pandas.Series.isin.html#pandas.Series.isin) `Series` method. This method is applied to a pandas series and, for each value in the series, checks whether it is a member of whatever is passed as its argument.\n",
    "\n",
    "```\n",
    "Example:\n",
    "\n",
    " [IN]: my_series = pd.Series([0, 1, 2, 3])\n",
    "       my_series\n",
    "       \n",
    "[OUT]: 0    0\n",
    "       1    1\n",
    "       2    2\n",
    "       3    3\n",
    "       dtype: int64\n",
    "       \n",
    " [IN]: my_series.isin([1, 2])\n",
    "       \n",
    "[OUT]: 0    False\n",
    "       1     True\n",
    "       2     True\n",
    "       3    False\n",
    "       dtype: bool\n",
    "       \n",
    "```\n",
    "\n",
    "2. Apply the mask to the `df_companies` dataframe and assign the result to a new variable called `df_invest`."
   ]
  },
  {
   "cell_type": "code",
   "execution_count": 54,
   "metadata": {
    "id": "HTcm42EMIXuG"
   },
   "outputs": [
    {
     "data": {
      "text/plain": [
       "8"
      ]
     },
     "execution_count": 54,
     "metadata": {},
     "output_type": "execute_result"
    }
   ],
   "source": [
    "# 1. Create a Boolean mask using conditional logic\n",
    "\n",
    "mask = (((df_companies['Industry']=='Hardware') & (df_companies['City'].isin(['Beijing', 'San Francisco', 'London'])))|\n",
    "((df_companies['Industry']=='Artificial intelligence') & (df_companies['City']=='London')))\n",
    "\n",
    "# 2. Apply the mask to the `df_companies` dataframe and assign the results to `df_invest`\n",
    "\n",
    "df_invest = df_companies[mask]\n",
    "df_invest.shape[0]"
   ]
  },
  {
   "cell_type": "markdown",
   "metadata": {
    "id": "4Fg3RkBxIXuG"
   },
   "source": [
    "<details>\n",
    "  <summary><h4><strong>Hint 1</strong></h4></summary>\n",
    "\n",
    "  * Remember that pandas uses `&` for \"and\", `|` for \"or\", and `~` for \"not\". \n",
    "  * Remember that each condition needs to be in its own set of parentheses. Refer to the above pseudo-code for an example.\n",
    "\n",
    "</details>"
   ]
  },
  {
   "cell_type": "markdown",
   "metadata": {
    "id": "ih8_ZC34IXuG"
   },
   "source": [
    "<details>\n",
    "  <summary><h4><strong>Hint 2</strong></h4></summary>\n",
    "\n",
    "  * Use `(Series.isin(list_of_cities))` to represent the logic: (City==Beijing, San Francisco, or London)`.\n",
    "  * There are two sets of conditional pairs: ((A) and (B)) or ((C) and (D)). Make sure the parentheses reflect this logic.\n",
    "\n",
    "</details>"
   ]
  },
  {
   "cell_type": "markdown",
   "metadata": {},
   "source": [
    "<details>\n",
    "  <summary><h4><strong>Hint 3</strong></h4></summary>\n",
    "\n",
    "Consider using the following code:\n",
    "\n",
    "    ```\n",
    "    cities = ['Beijing', 'San Francisco', 'London']\n",
    "    mask = (\n",
    "        (df_companies['Industry']=='Hardware') & (df_companies['City'].isin(cities))\n",
    "    ) | (\n",
    "        (df_companies['Industry']=='Artificial intelligence') & (df_companies['City']=='London')\n",
    "    )\n",
    "    df_invest = df_companies[mask]\n",
    "    ```\n",
    "\n",
    "</details>"
   ]
  },
  {
   "cell_type": "markdown",
   "metadata": {},
   "source": [
    "**Question: How many companies meet the criteria given by the investor?**\n"
   ]
  },
  {
   "cell_type": "markdown",
   "metadata": {},
   "source": [
    "8"
   ]
  },
  {
   "cell_type": "markdown",
   "metadata": {
    "id": "5446b7aa"
   },
   "source": [
    "### List of countries by sum of valuation"
   ]
  },
  {
   "cell_type": "markdown",
   "metadata": {
    "id": "5606ef21"
   },
   "source": [
    "For each country, sum the valuations of all companies in that country, then sort the results in descending order by summed valuation. Assign the results to a variable called `national_valuations`."
   ]
  },
  {
   "cell_type": "code",
   "execution_count": 50,
   "metadata": {},
   "outputs": [
    {
     "data": {
      "text/plain": [
       "Index(['Company', 'Valuation', 'Date Joined', 'Industry', 'City',\n",
       "       'Country/Region', 'Continent', 'Year Founded', 'Funding',\n",
       "       'Select Investors', 'Year Joined', 'valuation_num'],\n",
       "      dtype='object')"
      ]
     },
     "execution_count": 50,
     "metadata": {},
     "output_type": "execute_result"
    }
   ],
   "source": [
    "df_companies.columns"
   ]
  },
  {
   "cell_type": "code",
   "execution_count": 60,
   "metadata": {
    "id": "097dfa19"
   },
   "outputs": [
    {
     "data": {
      "text/plain": [
       "Country/Region\n",
       "United States     1933000000000\n",
       "China              696000000000\n",
       "India              196000000000\n",
       "United Kingdom     195000000000\n",
       "Germany             72000000000\n",
       "Sweden              63000000000\n",
       "Australia           56000000000\n",
       "France              55000000000\n",
       "Canada              49000000000\n",
       "South Korea         41000000000\n",
       "Israel              39000000000\n",
       "Brazil              37000000000\n",
       "Bahamas             32000000000\n",
       "Indonesia           28000000000\n",
       "Singapore           21000000000\n",
       "Name: valuation_clean, dtype: int64"
      ]
     },
     "execution_count": 60,
     "metadata": {},
     "output_type": "execute_result"
    }
   ],
   "source": [
    "# Group the data by`Country/Region`\n",
    "df_companies['valuation_clean']= df_companies['Valuation'].str.strip('$').map(lambda a: int(a.strip('B'))*10**9 if 'B' in a else int(a))\n",
    "national_valuations = df_companies.groupby('Country/Region')['valuation_clean'].sum()\n",
    "\n",
    "# Print the top 15 values of the DataFrame.\n",
    "\n",
    "national_valuations.sort_values( ascending=False).head(15)"
   ]
  },
  {
   "cell_type": "markdown",
   "metadata": {
    "id": "K2cK-KYRIXuH"
   },
   "source": [
    "<details>\n",
    "  <summary><h4><strong>Hint</strong></h4></summary>\n",
    "\n",
    "  Use a `groupby()` statement to group by `Country/Region`, then isolate the `valuation_num` column, sum it, and use the `sort_values()` method to sort the results.\n",
    "\n",
    "</details>"
   ]
  },
  {
   "cell_type": "markdown",
   "metadata": {
    "id": "ePL-Wvprcjiz"
   },
   "source": [
    "**Question: Which countries have the highest sum of valuation?**"
   ]
  },
  {
   "cell_type": "markdown",
   "metadata": {
    "id": "bwc5EGrPTk6U"
   },
   "source": [
    "USA ,China, India and United Kingdom have the highest company valuations."
   ]
  },
  {
   "cell_type": "markdown",
   "metadata": {
    "id": "JM0yLhuXeXb4"
   },
   "source": [
    "### Filter out top 4 outlying countries"
   ]
  },
  {
   "cell_type": "markdown",
   "metadata": {},
   "source": [
    "Use this grouped and summed data to plot a barplot. However, to meet the needs of your stakeholder, you must first remove the United States, China, India, and the United Kingdom. Remove these countries from `national_valuations` and reassign the results to a variable called `national_valuations_no_big4`."
   ]
  },
  {
   "cell_type": "code",
   "execution_count": 61,
   "metadata": {
    "id": "94223263"
   },
   "outputs": [],
   "source": [
    "# Remove outlying countries\n",
    "\n",
    "national_valuations_no_big4 = national_valuations.sort_values(ascending=False).iloc[4:]"
   ]
  },
  {
   "cell_type": "markdown",
   "metadata": {},
   "source": [
    "<details>\n",
    "  <summary><h4><strong>Hint</strong></h4></summary>\n",
    "\n",
    "There are a number of ways to accomplish this task. One of the easiest ways is to use a simple iloc[] selection statement to select row indices 4&ndash;end and all columns of `national_valuations`.\n",
    "</details>"
   ]
  },
  {
   "cell_type": "markdown",
   "metadata": {
    "id": "bb8e3be2"
   },
   "source": [
    "### BONUS CONTENT: Alternative approach (optional)\n",
    "\n",
    "You can also use `isin()` to create a Boolean mask to filter out specific values of the `Country/Region` column. In this case, this process is longer and more complicated than simply using the iloc[] statement. However, there will be situations where this is the most direct approach. \n",
    "    \n",
    "How could you use `isin()` and your knowledge of pandas conditional operators and Boolean masks to accomplish the same task?\n"
   ]
  },
  {
   "cell_type": "code",
   "execution_count": 77,
   "metadata": {
    "id": "a782354c"
   },
   "outputs": [],
   "source": [
    "# (Optional) Use `isin()` to create a Boolean mask to accomplish the same task\n",
    "#isin(['United States','China','India','United Kingdom'])\n",
    "vals = national_valuations.sort_values(ascending=False).reset_index()\n",
    "vals[~(vals['Country/Region'].isin(['United States','China','India','United Kingdom']))]\n",
    "national_valuations_no_big4_2 = vals[~(vals['Country/Region'].isin(['United States','China','India','United Kingdom']))]"
   ]
  },
  {
   "cell_type": "markdown",
   "metadata": {
    "id": "fa5f245b"
   },
   "source": [
    "<details>\n",
    "  <summary><h4><strong>Answer</strong></h4></summary>\n",
    "\n",
    "In this case, there are 46 total countries and you want to keep countries 5&ndash;46 and filter out countries 1&ndash;4. To use `isin()` would require you to list out 42 countries: \n",
    "    \n",
    "```\n",
    "mask = national_valuations['Country/Region'].isin(['country_5', 'country_6', ... 'country_46'])\n",
    "```\n",
    "\n",
    "This is very impractical. However, you can invert the statement to simplify the job. The above impractical statement becomes:\n",
    "\n",
    "```\n",
    "mask = ~national_valuations['Country/Region'].isin(['country_1', 'country_2', 'country_3', 'country_4'])\n",
    "```\n",
    "\n",
    "Notice the `~` that precedes the whole statement. This transforms the meaning from \"country is in this list\" to \"country is NOT in this list.\"\n",
    "    \n",
    "Then, simply apply the mask to `national_valuations` and assign the result back to `national_valuations_no_big4`.\n",
    "</details>"
   ]
  },
  {
   "cell_type": "markdown",
   "metadata": {},
   "source": [
    "### Create barplot for top 20 non-big-4 countries"
   ]
  },
  {
   "cell_type": "markdown",
   "metadata": {},
   "source": [
    "Now, the data is ready to reveal the top 20 non-big-4 countries with the highest total company valuations. Use seaborn's [`barplot()`](https://seaborn.pydata.org/generated/seaborn.barplot.html) function to create a plot showing national valuation on one axis and country on the other."
   ]
  },
  {
   "cell_type": "code",
   "execution_count": 79,
   "metadata": {
    "id": "4cd359c4"
   },
   "outputs": [
    {
     "data": {
      "image/png": "[encoded data removed]",
      "text/plain": [
       "<Figure size 1296x432 with 1 Axes>"
      ]
     },
     "metadata": {
      "needs_background": "light"
     },
     "output_type": "display_data"
    }
   ],
   "source": [
    "# Create a barplot to compare the top 20 countries with highest company valuations.\n",
    "import matplotlib.pyplot as plt\n",
    "plt.figure(figsize=(18,6))\n",
    "sns.barplot(data=national_valuations_no_big4_2, x='Country/Region', y='valuation_clean')\n",
    "\n",
    "plt.title('Countries and total company valuations(non big 4)')\n",
    "plt.xticks(rotation=60)\n",
    "# Show the plot.\n",
    "\n",
    "plt.show()"
   ]
  },
  {
   "cell_type": "markdown",
   "metadata": {
    "id": "oudhFpTQIXuI"
   },
   "source": [
    "<details>\n",
    "  <summary><h4><strong>Hint 1</strong></h4></summary>\n",
    "\n",
    "  Select the top 20 rows in `national_valuations_no_big4`.\n",
    "\n",
    "</details>"
   ]
  },
  {
   "cell_type": "markdown",
   "metadata": {
    "id": "_k_HjjF8IXuI"
   },
   "source": [
    "<details>\n",
    "  <summary><h4><strong>Hint 2</strong></h4></summary>\n",
    "\n",
    "* Select the top 20 rows in `df_companies_sum_outliers_removed` by using the `head(20)` method.\n",
    "* Specify `Country/Region` for the `x` parameter of the function and `valuation_num` for the `y` parameter of the function (or vice versa).\n",
    "\n",
    "</details>"
   ]
  },
  {
   "cell_type": "markdown",
   "metadata": {
    "id": "aca44e9f"
   },
   "source": [
    "### Plot maps"
   ]
  },
  {
   "cell_type": "markdown",
   "metadata": {
    "id": "6875df3e"
   },
   "source": [
    "Your investor has also asked for a global valuation map of all countries except `United States`, `China`, `India`, and `United Kingdom` (a.k.a. \"big-four countries\").\n",
    "\n",
    "You have learned about using [`scatter_geo()`](https://plotly.com/python-api-reference/generated/plotly.express.scatter_geo) from the `plotly.express` library to create plot data on a map. Create a `scatter_geo()` plot that depicts the total valuations of each non-big-four country on a world map, where each valuation is shown as a circle on the map, and the size of the circle is proportional to that country's summed valuation."
   ]
  },
  {
   "cell_type": "code",
   "execution_count": 92,
   "metadata": {},
   "outputs": [],
   "source": [
    "national_valuations_no_big4 = national_valuations_no_big4.reset_index()"
   ]
  },
  {
   "cell_type": "code",
   "execution_count": 95,
   "metadata": {
    "id": "c5089cf7"
   },
   "outputs": [
    {
     "data": {
      "application/vnd.plotly.v1+json": {
       "config": {
        "plotlyServerURL": "https://plot.ly"
       },
       "data": [
        {
         "geo": "geo",
         "hovertemplate": "Country/Region=%{location}<br>valuation_clean=%{marker.size}<extra></extra>",
         "legendgroup": "Germany",
         "locationmode": "country names",
         "locations": [
          "Germany"
         ],
         "marker": {
          "color": "#636efa",
          "size": [
           72000000000
          ],
          "sizemode": "area",
          "sizeref": 180000000,
          "symbol": "circle"
         },
         "mode": "markers",
         "name": "Germany",
         "showlegend": true,
         "type": "scattergeo"
        },
        {
         "geo": "geo",
         "hovertemplate": "Country/Region=%{location}<br>valuation_clean=%{marker.size}<extra></extra>",
         "legendgroup": "Sweden",
         "locationmode": "country names",
         "locations": [
          "Sweden"
         ],
         "marker": {
          "color": "#EF553B",
          "size": [
           63000000000
          ],
          "sizemode": "area",
          "sizeref": 180000000,
          "symbol": "circle"
         },
         "mode": "markers",
         "name": "Sweden",
         "showlegend": true,
         "type": "scattergeo"
        },
        {
         "geo": "geo",
         "hovertemplate": "Country/Region=%{location}<br>valuation_clean=%{marker.size}<extra></extra>",
         "legendgroup": "Australia",
         "locationmode": "country names",
         "locations": [
          "Australia"
         ],
         "marker": {
          "color": "#00cc96",
          "size": [
           56000000000
          ],
          "sizemode": "area",
          "sizeref": 180000000,
          "symbol": "circle"
         },
         "mode": "markers",
         "name": "Australia",
         "showlegend": true,
         "type": "scattergeo"
        },
        {
         "geo": "geo",
         "hovertemplate": "Country/Region=%{location}<br>valuation_clean=%{marker.size}<extra></extra>",
         "legendgroup": "France",
         "locationmode": "country names",
         "locations": [
          "France"
         ],
         "marker": {
          "color": "#ab63fa",
          "size": [
           55000000000
          ],
          "sizemode": "area",
          "sizeref": 180000000,
          "symbol": "circle"
         },
         "mode": "markers",
         "name": "France",
         "showlegend": true,
         "type": "scattergeo"
        },
        {
         "geo": "geo",
         "hovertemplate": "Country/Region=%{location}<br>valuation_clean=%{marker.size}<extra></extra>",
         "legendgroup": "Canada",
         "locationmode": "country names",
         "locations": [
          "Canada"
         ],
         "marker": {
          "color": "#FFA15A",
          "size": [
           49000000000
          ],
          "sizemode": "area",
          "sizeref": 180000000,
          "symbol": "circle"
         },
         "mode": "markers",
         "name": "Canada",
         "showlegend": true,
         "type": "scattergeo"
        },
        {
         "geo": "geo",
         "hovertemplate": "Country/Region=%{location}<br>valuation_clean=%{marker.size}<extra></extra>",
         "legendgroup": "South Korea",
         "locationmode": "country names",
         "locations": [
          "South Korea"
         ],
         "marker": {
          "color": "#19d3f3",
          "size": [
           41000000000
          ],
          "sizemode": "area",
          "sizeref": 180000000,
          "symbol": "circle"
         },
         "mode": "markers",
         "name": "South Korea",
         "showlegend": true,
         "type": "scattergeo"
        },
        {
         "geo": "geo",
         "hovertemplate": "Country/Region=%{location}<br>valuation_clean=%{marker.size}<extra></extra>",
         "legendgroup": "Israel",
         "locationmode": "country names",
         "locations": [
          "Israel"
         ],
         "marker": {
          "color": "#FF6692",
          "size": [
           39000000000
          ],
          "sizemode": "area",
          "sizeref": 180000000,
          "symbol": "circle"
         },
         "mode": "markers",
         "name": "Israel",
         "showlegend": true,
         "type": "scattergeo"
        },
        {
         "geo": "geo",
         "hovertemplate": "Country/Region=%{location}<br>valuation_clean=%{marker.size}<extra></extra>",
         "legendgroup": "Brazil",
         "locationmode": "country names",
         "locations": [
          "Brazil"
         ],
         "marker": {
          "color": "#B6E880",
          "size": [
           37000000000
          ],
          "sizemode": "area",
          "sizeref": 180000000,
          "symbol": "circle"
         },
         "mode": "markers",
         "name": "Brazil",
         "showlegend": true,
         "type": "scattergeo"
        },
        {
         "geo": "geo",
         "hovertemplate": "Country/Region=%{location}<br>valuation_clean=%{marker.size}<extra></extra>",
         "legendgroup": "Bahamas",
         "locationmode": "country names",
         "locations": [
          "Bahamas"
         ],
         "marker": {
          "color": "#FF97FF",
          "size": [
           32000000000
          ],
          "sizemode": "area",
          "sizeref": 180000000,
          "symbol": "circle"
         },
         "mode": "markers",
         "name": "Bahamas",
         "showlegend": true,
         "type": "scattergeo"
        },
        {
         "geo": "geo",
         "hovertemplate": "Country/Region=%{location}<br>valuation_clean=%{marker.size}<extra></extra>",
         "legendgroup": "Indonesia",
         "locationmode": "country names",
         "locations": [
          "Indonesia"
         ],
         "marker": {
          "color": "#FECB52",
          "size": [
           28000000000
          ],
          "sizemode": "area",
          "sizeref": 180000000,
          "symbol": "circle"
         },
         "mode": "markers",
         "name": "Indonesia",
         "showlegend": true,
         "type": "scattergeo"
        },
        {
         "geo": "geo",
         "hovertemplate": "Country/Region=%{location}<br>valuation_clean=%{marker.size}<extra></extra>",
         "legendgroup": "Singapore",
         "locationmode": "country names",
         "locations": [
          "Singapore"
         ],
         "marker": {
          "color": "#636efa",
          "size": [
           21000000000
          ],
          "sizemode": "area",
          "sizeref": 180000000,
          "symbol": "circle"
         },
         "mode": "markers",
         "name": "Singapore",
         "showlegend": true,
         "type": "scattergeo"
        },
        {
         "geo": "geo",
         "hovertemplate": "Country/Region=%{location}<br>valuation_clean=%{marker.size}<extra></extra>",
         "legendgroup": "Netherlands",
         "locationmode": "country names",
         "locations": [
          "Netherlands"
         ],
         "marker": {
          "color": "#EF553B",
          "size": [
           19000000000
          ],
          "sizemode": "area",
          "sizeref": 180000000,
          "symbol": "circle"
         },
         "mode": "markers",
         "name": "Netherlands",
         "showlegend": true,
         "type": "scattergeo"
        },
        {
         "geo": "geo",
         "hovertemplate": "Country/Region=%{location}<br>valuation_clean=%{marker.size}<extra></extra>",
         "legendgroup": "Hong Kong",
         "locationmode": "country names",
         "locations": [
          "Hong Kong"
         ],
         "marker": {
          "color": "#00cc96",
          "size": [
           18000000000
          ],
          "sizemode": "area",
          "sizeref": 180000000,
          "symbol": "circle"
         },
         "mode": "markers",
         "name": "Hong Kong",
         "showlegend": true,
         "type": "scattergeo"
        },
        {
         "geo": "geo",
         "hovertemplate": "Country/Region=%{location}<br>valuation_clean=%{marker.size}<extra></extra>",
         "legendgroup": "Turkey",
         "locationmode": "country names",
         "locations": [
          "Turkey"
         ],
         "marker": {
          "color": "#ab63fa",
          "size": [
           16000000000
          ],
          "sizemode": "area",
          "sizeref": 180000000,
          "symbol": "circle"
         },
         "mode": "markers",
         "name": "Turkey",
         "showlegend": true,
         "type": "scattergeo"
        },
        {
         "geo": "geo",
         "hovertemplate": "Country/Region=%{location}<br>valuation_clean=%{marker.size}<extra></extra>",
         "legendgroup": "Mexico",
         "locationmode": "country names",
         "locations": [
          "Mexico"
         ],
         "marker": {
          "color": "#FFA15A",
          "size": [
           16000000000
          ],
          "sizemode": "area",
          "sizeref": 180000000,
          "symbol": "circle"
         },
         "mode": "markers",
         "name": "Mexico",
         "showlegend": true,
         "type": "scattergeo"
        },
        {
         "geo": "geo",
         "hovertemplate": "Country/Region=%{location}<br>valuation_clean=%{marker.size}<extra></extra>",
         "legendgroup": "Estonia",
         "locationmode": "country names",
         "locations": [
          "Estonia"
         ],
         "marker": {
          "color": "#19d3f3",
          "size": [
           13000000000
          ],
          "sizemode": "area",
          "sizeref": 180000000,
          "symbol": "circle"
         },
         "mode": "markers",
         "name": "Estonia",
         "showlegend": true,
         "type": "scattergeo"
        },
        {
         "geo": "geo",
         "hovertemplate": "Country/Region=%{location}<br>valuation_clean=%{marker.size}<extra></extra>",
         "legendgroup": "Finland",
         "locationmode": "country names",
         "locations": [
          "Finland"
         ],
         "marker": {
          "color": "#FF6692",
          "size": [
           12000000000
          ],
          "sizemode": "area",
          "sizeref": 180000000,
          "symbol": "circle"
         },
         "mode": "markers",
         "name": "Finland",
         "showlegend": true,
         "type": "scattergeo"
        },
        {
         "geo": "geo",
         "hovertemplate": "Country/Region=%{location}<br>valuation_clean=%{marker.size}<extra></extra>",
         "legendgroup": "Ireland",
         "locationmode": "country names",
         "locations": [
          "Ireland"
         ],
         "marker": {
          "color": "#B6E880",
          "size": [
           9000000000
          ],
          "sizemode": "area",
          "sizeref": 180000000,
          "symbol": "circle"
         },
         "mode": "markers",
         "name": "Ireland",
         "showlegend": true,
         "type": "scattergeo"
        },
        {
         "geo": "geo",
         "hovertemplate": "Country/Region=%{location}<br>valuation_clean=%{marker.size}<extra></extra>",
         "legendgroup": "Switzerland",
         "locationmode": "country names",
         "locations": [
          "Switzerland"
         ],
         "marker": {
          "color": "#FF97FF",
          "size": [
           8000000000
          ],
          "sizemode": "area",
          "sizeref": 180000000,
          "symbol": "circle"
         },
         "mode": "markers",
         "name": "Switzerland",
         "showlegend": true,
         "type": "scattergeo"
        },
        {
         "geo": "geo",
         "hovertemplate": "Country/Region=%{location}<br>valuation_clean=%{marker.size}<extra></extra>",
         "legendgroup": "Japan",
         "locationmode": "country names",
         "locations": [
          "Japan"
         ],
         "marker": {
          "color": "#FECB52",
          "size": [
           8000000000
          ],
          "sizemode": "area",
          "sizeref": 180000000,
          "symbol": "circle"
         },
         "mode": "markers",
         "name": "Japan",
         "showlegend": true,
         "type": "scattergeo"
        },
        {
         "geo": "geo",
         "hovertemplate": "Country/Region=%{location}<br>valuation_clean=%{marker.size}<extra></extra>",
         "legendgroup": "Belgium",
         "locationmode": "country names",
         "locations": [
          "Belgium"
         ],
         "marker": {
          "color": "#636efa",
          "size": [
           8000000000
          ],
          "sizemode": "area",
          "sizeref": 180000000,
          "symbol": "circle"
         },
         "mode": "markers",
         "name": "Belgium",
         "showlegend": true,
         "type": "scattergeo"
        },
        {
         "geo": "geo",
         "hovertemplate": "Country/Region=%{location}<br>valuation_clean=%{marker.size}<extra></extra>",
         "legendgroup": "Denmark",
         "locationmode": "country names",
         "locations": [
          "Denmark"
         ],
         "marker": {
          "color": "#EF553B",
          "size": [
           7000000000
          ],
          "sizemode": "area",
          "sizeref": 180000000,
          "symbol": "circle"
         },
         "mode": "markers",
         "name": "Denmark",
         "showlegend": true,
         "type": "scattergeo"
        },
        {
         "geo": "geo",
         "hovertemplate": "Country/Region=%{location}<br>valuation_clean=%{marker.size}<extra></extra>",
         "legendgroup": "Austria",
         "locationmode": "country names",
         "locations": [
          "Austria"
         ],
         "marker": {
          "color": "#00cc96",
          "size": [
           7000000000
          ],
          "sizemode": "area",
          "sizeref": 180000000,
          "symbol": "circle"
         },
         "mode": "markers",
         "name": "Austria",
         "showlegend": true,
         "type": "scattergeo"
        },
        {
         "geo": "geo",
         "hovertemplate": "Country/Region=%{location}<br>valuation_clean=%{marker.size}<extra></extra>",
         "legendgroup": "Colombia",
         "locationmode": "country names",
         "locations": [
          "Colombia"
         ],
         "marker": {
          "color": "#ab63fa",
          "size": [
           6000000000
          ],
          "sizemode": "area",
          "sizeref": 180000000,
          "symbol": "circle"
         },
         "mode": "markers",
         "name": "Colombia",
         "showlegend": true,
         "type": "scattergeo"
        },
        {
         "geo": "geo",
         "hovertemplate": "Country/Region=%{location}<br>valuation_clean=%{marker.size}<extra></extra>",
         "legendgroup": "Norway",
         "locationmode": "country names",
         "locations": [
          "Norway"
         ],
         "marker": {
          "color": "#FFA15A",
          "size": [
           5000000000
          ],
          "sizemode": "area",
          "sizeref": 180000000,
          "symbol": "circle"
         },
         "mode": "markers",
         "name": "Norway",
         "showlegend": true,
         "type": "scattergeo"
        },
        {
         "geo": "geo",
         "hovertemplate": "Country/Region=%{location}<br>valuation_clean=%{marker.size}<extra></extra>",
         "legendgroup": "Vietnam",
         "locationmode": "country names",
         "locations": [
          "Vietnam"
         ],
         "marker": {
          "color": "#19d3f3",
          "size": [
           5000000000
          ],
          "sizemode": "area",
          "sizeref": 180000000,
          "symbol": "circle"
         },
         "mode": "markers",
         "name": "Vietnam",
         "showlegend": true,
         "type": "scattergeo"
        },
        {
         "geo": "geo",
         "hovertemplate": "Country/Region=%{location}<br>valuation_clean=%{marker.size}<extra></extra>",
         "legendgroup": "Lithuania",
         "locationmode": "country names",
         "locations": [
          "Lithuania"
         ],
         "marker": {
          "color": "#FF6692",
          "size": [
           5000000000
          ],
          "sizemode": "area",
          "sizeref": 180000000,
          "symbol": "circle"
         },
         "mode": "markers",
         "name": "Lithuania",
         "showlegend": true,
         "type": "scattergeo"
        },
        {
         "geo": "geo",
         "hovertemplate": "Country/Region=%{location}<br>valuation_clean=%{marker.size}<extra></extra>",
         "legendgroup": "United Arab Emirates",
         "locationmode": "country names",
         "locations": [
          "United Arab Emirates"
         ],
         "marker": {
          "color": "#B6E880",
          "size": [
           5000000000
          ],
          "sizemode": "area",
          "sizeref": 180000000,
          "symbol": "circle"
         },
         "mode": "markers",
         "name": "United Arab Emirates",
         "showlegend": true,
         "type": "scattergeo"
        },
        {
         "geo": "geo",
         "hovertemplate": "Country/Region=%{location}<br>valuation_clean=%{marker.size}<extra></extra>",
         "legendgroup": "Spain",
         "locationmode": "country names",
         "locations": [
          "Spain"
         ],
         "marker": {
          "color": "#FF97FF",
          "size": [
           4000000000
          ],
          "sizemode": "area",
          "sizeref": 180000000,
          "symbol": "circle"
         },
         "mode": "markers",
         "name": "Spain",
         "showlegend": true,
         "type": "scattergeo"
        },
        {
         "geo": "geo",
         "hovertemplate": "Country/Region=%{location}<br>valuation_clean=%{marker.size}<extra></extra>",
         "legendgroup": "Chile",
         "locationmode": "country names",
         "locations": [
          "Chile"
         ],
         "marker": {
          "color": "#FECB52",
          "size": [
           3000000000
          ],
          "sizemode": "area",
          "sizeref": 180000000,
          "symbol": "circle"
         },
         "mode": "markers",
         "name": "Chile",
         "showlegend": true,
         "type": "scattergeo"
        },
        {
         "geo": "geo",
         "hovertemplate": "Country/Region=%{location}<br>valuation_clean=%{marker.size}<extra></extra>",
         "legendgroup": "Philippines",
         "locationmode": "country names",
         "locations": [
          "Philippines"
         ],
         "marker": {
          "color": "#636efa",
          "size": [
           3000000000
          ],
          "sizemode": "area",
          "sizeref": 180000000,
          "symbol": "circle"
         },
         "mode": "markers",
         "name": "Philippines",
         "showlegend": true,
         "type": "scattergeo"
        },
        {
         "geo": "geo",
         "hovertemplate": "Country/Region=%{location}<br>valuation_clean=%{marker.size}<extra></extra>",
         "legendgroup": "South Africa",
         "locationmode": "country names",
         "locations": [
          "South Africa"
         ],
         "marker": {
          "color": "#EF553B",
          "size": [
           3000000000
          ],
          "sizemode": "area",
          "sizeref": 180000000,
          "symbol": "circle"
         },
         "mode": "markers",
         "name": "South Africa",
         "showlegend": true,
         "type": "scattergeo"
        },
        {
         "geo": "geo",
         "hovertemplate": "Country/Region=%{location}<br>valuation_clean=%{marker.size}<extra></extra>",
         "legendgroup": "Thailand",
         "locationmode": "country names",
         "locations": [
          "Thailand"
         ],
         "marker": {
          "color": "#00cc96",
          "size": [
           3000000000
          ],
          "sizemode": "area",
          "sizeref": 180000000,
          "symbol": "circle"
         },
         "mode": "markers",
         "name": "Thailand",
         "showlegend": true,
         "type": "scattergeo"
        },
        {
         "geo": "geo",
         "hovertemplate": "Country/Region=%{location}<br>valuation_clean=%{marker.size}<extra></extra>",
         "legendgroup": "Argentina",
         "locationmode": "country names",
         "locations": [
          "Argentina"
         ],
         "marker": {
          "color": "#ab63fa",
          "size": [
           2000000000
          ],
          "sizemode": "area",
          "sizeref": 180000000,
          "symbol": "circle"
         },
         "mode": "markers",
         "name": "Argentina",
         "showlegend": true,
         "type": "scattergeo"
        },
        {
         "geo": "geo",
         "hovertemplate": "Country/Region=%{location}<br>valuation_clean=%{marker.size}<extra></extra>",
         "legendgroup": "Senegal",
         "locationmode": "country names",
         "locations": [
          "Senegal"
         ],
         "marker": {
          "color": "#FFA15A",
          "size": [
           2000000000
          ],
          "sizemode": "area",
          "sizeref": 180000000,
          "symbol": "circle"
         },
         "mode": "markers",
         "name": "Senegal",
         "showlegend": true,
         "type": "scattergeo"
        },
        {
         "geo": "geo",
         "hovertemplate": "Country/Region=%{location}<br>valuation_clean=%{marker.size}<extra></extra>",
         "legendgroup": "Nigeria",
         "locationmode": "country names",
         "locations": [
          "Nigeria"
         ],
         "marker": {
          "color": "#19d3f3",
          "size": [
           2000000000
          ],
          "sizemode": "area",
          "sizeref": 180000000,
          "symbol": "circle"
         },
         "mode": "markers",
         "name": "Nigeria",
         "showlegend": true,
         "type": "scattergeo"
        },
        {
         "geo": "geo",
         "hovertemplate": "Country/Region=%{location}<br>valuation_clean=%{marker.size}<extra></extra>",
         "legendgroup": "Malaysia",
         "locationmode": "country names",
         "locations": [
          "Malaysia"
         ],
         "marker": {
          "color": "#FF6692",
          "size": [
           2000000000
          ],
          "sizemode": "area",
          "sizeref": 180000000,
          "symbol": "circle"
         },
         "mode": "markers",
         "name": "Malaysia",
         "showlegend": true,
         "type": "scattergeo"
        },
        {
         "geo": "geo",
         "hovertemplate": "Country/Region=%{location}<br>valuation_clean=%{marker.size}<extra></extra>",
         "legendgroup": "Luxembourg",
         "locationmode": "country names",
         "locations": [
          "Luxembourg"
         ],
         "marker": {
          "color": "#B6E880",
          "size": [
           2000000000
          ],
          "sizemode": "area",
          "sizeref": 180000000,
          "symbol": "circle"
         },
         "mode": "markers",
         "name": "Luxembourg",
         "showlegend": true,
         "type": "scattergeo"
        },
        {
         "geo": "geo",
         "hovertemplate": "Country/Region=%{location}<br>valuation_clean=%{marker.size}<extra></extra>",
         "legendgroup": "Bermuda",
         "locationmode": "country names",
         "locations": [
          "Bermuda"
         ],
         "marker": {
          "color": "#FF97FF",
          "size": [
           2000000000
          ],
          "sizemode": "area",
          "sizeref": 180000000,
          "symbol": "circle"
         },
         "mode": "markers",
         "name": "Bermuda",
         "showlegend": true,
         "type": "scattergeo"
        },
        {
         "geo": "geo",
         "hovertemplate": "Country/Region=%{location}<br>valuation_clean=%{marker.size}<extra></extra>",
         "legendgroup": "Czech Republic",
         "locationmode": "country names",
         "locations": [
          "Czech Republic"
         ],
         "marker": {
          "color": "#FECB52",
          "size": [
           1000000000
          ],
          "sizemode": "area",
          "sizeref": 180000000,
          "symbol": "circle"
         },
         "mode": "markers",
         "name": "Czech Republic",
         "showlegend": true,
         "type": "scattergeo"
        },
        {
         "geo": "geo",
         "hovertemplate": "Country/Region=%{location}<br>valuation_clean=%{marker.size}<extra></extra>",
         "legendgroup": "Croatia",
         "locationmode": "country names",
         "locations": [
          "Croatia"
         ],
         "marker": {
          "color": "#636efa",
          "size": [
           1000000000
          ],
          "sizemode": "area",
          "sizeref": 180000000,
          "symbol": "circle"
         },
         "mode": "markers",
         "name": "Croatia",
         "showlegend": true,
         "type": "scattergeo"
        },
        {
         "geo": "geo",
         "hovertemplate": "Country/Region=%{location}<br>valuation_clean=%{marker.size}<extra></extra>",
         "legendgroup": "Italy",
         "locationmode": "country names",
         "locations": [
          "Italy"
         ],
         "marker": {
          "color": "#EF553B",
          "size": [
           1000000000
          ],
          "sizemode": "area",
          "sizeref": 180000000,
          "symbol": "circle"
         },
         "mode": "markers",
         "name": "Italy",
         "showlegend": true,
         "type": "scattergeo"
        }
       ],
       "layout": {
        "geo": {
         "center": {},
         "domain": {
          "x": [
           0,
           1
          ],
          "y": [
           0,
           1
          ]
         }
        },
        "legend": {
         "itemsizing": "constant",
         "title": {
          "text": "Country/Region"
         },
         "tracegroupgap": 0
        },
        "template": {
         "data": {
          "bar": [
           {
            "error_x": {
             "color": "#2a3f5f"
            },
            "error_y": {
             "color": "#2a3f5f"
            },
            "marker": {
             "line": {
              "color": "#E5ECF6",
              "width": 0.5
             },
             "pattern": {
              "fillmode": "overlay",
              "size": 10,
              "solidity": 0.2
             }
            },
            "type": "bar"
           }
          ],
          "barpolar": [
           {
            "marker": {
             "line": {
              "color": "#E5ECF6",
              "width": 0.5
             },
             "pattern": {
              "fillmode": "overlay",
              "size": 10,
              "solidity": 0.2
             }
            },
            "type": "barpolar"
           }
          ],
          "carpet": [
           {
            "aaxis": {
             "endlinecolor": "#2a3f5f",
             "gridcolor": "white",
             "linecolor": "white",
             "minorgridcolor": "white",
             "startlinecolor": "#2a3f5f"
            },
            "baxis": {
             "endlinecolor": "#2a3f5f",
             "gridcolor": "white",
             "linecolor": "white",
             "minorgridcolor": "white",
             "startlinecolor": "#2a3f5f"
            },
            "type": "carpet"
           }
          ],
          "choropleth": [
           {
            "colorbar": {
             "outlinewidth": 0,
             "ticks": ""
            },
            "type": "choropleth"
           }
          ],
          "contour": [
           {
            "colorbar": {
             "outlinewidth": 0,
             "ticks": ""
            },
            "colorscale": [
             [
              0,
              "#0d0887"
             ],
             [
              0.1111111111111111,
              "#46039f"
             ],
             [
              0.2222222222222222,
              "#7201a8"
             ],
             [
              0.3333333333333333,
              "#9c179e"
             ],
             [
              0.4444444444444444,
              "#bd3786"
             ],
             [
              0.5555555555555556,
              "#d8576b"
             ],
             [
              0.6666666666666666,
              "#ed7953"
             ],
             [
              0.7777777777777778,
              "#fb9f3a"
             ],
             [
              0.8888888888888888,
              "#fdca26"
             ],
             [
              1,
              "#f0f921"
             ]
            ],
            "type": "contour"
           }
          ],
          "contourcarpet": [
           {
            "colorbar": {
             "outlinewidth": 0,
             "ticks": ""
            },
            "type": "contourcarpet"
           }
          ],
          "heatmap": [
           {
            "colorbar": {
             "outlinewidth": 0,
             "ticks": ""
            },
            "colorscale": [
             [
              0,
              "#0d0887"
             ],
             [
              0.1111111111111111,
              "#46039f"
             ],
             [
              0.2222222222222222,
              "#7201a8"
             ],
             [
              0.3333333333333333,
              "#9c179e"
             ],
             [
              0.4444444444444444,
              "#bd3786"
             ],
             [
              0.5555555555555556,
              "#d8576b"
             ],
             [
              0.6666666666666666,
              "#ed7953"
             ],
             [
              0.7777777777777778,
              "#fb9f3a"
             ],
             [
              0.8888888888888888,
              "#fdca26"
             ],
             [
              1,
              "#f0f921"
             ]
            ],
            "type": "heatmap"
           }
          ],
          "heatmapgl": [
           {
            "colorbar": {
             "outlinewidth": 0,
             "ticks": ""
            },
            "colorscale": [
             [
              0,
              "#0d0887"
             ],
             [
              0.1111111111111111,
              "#46039f"
             ],
             [
              0.2222222222222222,
              "#7201a8"
             ],
             [
              0.3333333333333333,
              "#9c179e"
             ],
             [
              0.4444444444444444,
              "#bd3786"
             ],
             [
              0.5555555555555556,
              "#d8576b"
             ],
             [
              0.6666666666666666,
              "#ed7953"
             ],
             [
              0.7777777777777778,
              "#fb9f3a"
             ],
             [
              0.8888888888888888,
              "#fdca26"
             ],
             [
              1,
              "#f0f921"
             ]
            ],
            "type": "heatmapgl"
           }
          ],
          "histogram": [
           {
            "marker": {
             "pattern": {
              "fillmode": "overlay",
              "size": 10,
              "solidity": 0.2
             }
            },
            "type": "histogram"
           }
          ],
          "histogram2d": [
           {
            "colorbar": {
             "outlinewidth": 0,
             "ticks": ""
            },
            "colorscale": [
             [
              0,
              "#0d0887"
             ],
             [
              0.1111111111111111,
              "#46039f"
             ],
             [
              0.2222222222222222,
              "#7201a8"
             ],
             [
              0.3333333333333333,
              "#9c179e"
             ],
             [
              0.4444444444444444,
              "#bd3786"
             ],
             [
              0.5555555555555556,
              "#d8576b"
             ],
             [
              0.6666666666666666,
              "#ed7953"
             ],
             [
              0.7777777777777778,
              "#fb9f3a"
             ],
             [
              0.8888888888888888,
              "#fdca26"
             ],
             [
              1,
              "#f0f921"
             ]
            ],
            "type": "histogram2d"
           }
          ],
          "histogram2dcontour": [
           {
            "colorbar": {
             "outlinewidth": 0,
             "ticks": ""
            },
            "colorscale": [
             [
              0,
              "#0d0887"
             ],
             [
              0.1111111111111111,
              "#46039f"
             ],
             [
              0.2222222222222222,
              "#7201a8"
             ],
             [
              0.3333333333333333,
              "#9c179e"
             ],
             [
              0.4444444444444444,
              "#bd3786"
             ],
             [
              0.5555555555555556,
              "#d8576b"
             ],
             [
              0.6666666666666666,
              "#ed7953"
             ],
             [
              0.7777777777777778,
              "#fb9f3a"
             ],
             [
              0.8888888888888888,
              "#fdca26"
             ],
             [
              1,
              "#f0f921"
             ]
            ],
            "type": "histogram2dcontour"
           }
          ],
          "mesh3d": [
           {
            "colorbar": {
             "outlinewidth": 0,
             "ticks": ""
            },
            "type": "mesh3d"
           }
          ],
          "parcoords": [
           {
            "line": {
             "colorbar": {
              "outlinewidth": 0,
              "ticks": ""
             }
            },
            "type": "parcoords"
           }
          ],
          "pie": [
           {
            "automargin": true,
            "type": "pie"
           }
          ],
          "scatter": [
           {
            "fillpattern": {
             "fillmode": "overlay",
             "size": 10,
             "solidity": 0.2
            },
            "type": "scatter"
           }
          ],
          "scatter3d": [
           {
            "line": {
             "colorbar": {
              "outlinewidth": 0,
              "ticks": ""
             }
            },
            "marker": {
             "colorbar": {
              "outlinewidth": 0,
              "ticks": ""
             }
            },
            "type": "scatter3d"
           }
          ],
          "scattercarpet": [
           {
            "marker": {
             "colorbar": {
              "outlinewidth": 0,
              "ticks": ""
             }
            },
            "type": "scattercarpet"
           }
          ],
          "scattergeo": [
           {
            "marker": {
             "colorbar": {
              "outlinewidth": 0,
              "ticks": ""
             }
            },
            "type": "scattergeo"
           }
          ],
          "scattergl": [
           {
            "marker": {
             "colorbar": {
              "outlinewidth": 0,
              "ticks": ""
             }
            },
            "type": "scattergl"
           }
          ],
          "scattermapbox": [
           {
            "marker": {
             "colorbar": {
              "outlinewidth": 0,
              "ticks": ""
             }
            },
            "type": "scattermapbox"
           }
          ],
          "scatterpolar": [
           {
            "marker": {
             "colorbar": {
              "outlinewidth": 0,
              "ticks": ""
             }
            },
            "type": "scatterpolar"
           }
          ],
          "scatterpolargl": [
           {
            "marker": {
             "colorbar": {
              "outlinewidth": 0,
              "ticks": ""
             }
            },
            "type": "scatterpolargl"
           }
          ],
          "scatterternary": [
           {
            "marker": {
             "colorbar": {
              "outlinewidth": 0,
              "ticks": ""
             }
            },
            "type": "scatterternary"
           }
          ],
          "surface": [
           {
            "colorbar": {
             "outlinewidth": 0,
             "ticks": ""
            },
            "colorscale": [
             [
              0,
              "#0d0887"
             ],
             [
              0.1111111111111111,
              "#46039f"
             ],
             [
              0.2222222222222222,
              "#7201a8"
             ],
             [
              0.3333333333333333,
              "#9c179e"
             ],
             [
              0.4444444444444444,
              "#bd3786"
             ],
             [
              0.5555555555555556,
              "#d8576b"
             ],
             [
              0.6666666666666666,
              "#ed7953"
             ],
             [
              0.7777777777777778,
              "#fb9f3a"
             ],
             [
              0.8888888888888888,
              "#fdca26"
             ],
             [
              1,
              "#f0f921"
             ]
            ],
            "type": "surface"
           }
          ],
          "table": [
           {
            "cells": {
             "fill": {
              "color": "#EBF0F8"
             },
             "line": {
              "color": "white"
             }
            },
            "header": {
             "fill": {
              "color": "#C8D4E3"
             },
             "line": {
              "color": "white"
             }
            },
            "type": "table"
           }
          ]
         },
         "layout": {
          "annotationdefaults": {
           "arrowcolor": "#2a3f5f",
           "arrowhead": 0,
           "arrowwidth": 1
          },
          "autotypenumbers": "strict",
          "coloraxis": {
           "colorbar": {
            "outlinewidth": 0,
            "ticks": ""
           }
          },
          "colorscale": {
           "diverging": [
            [
             0,
             "#8e0152"
            ],
            [
             0.1,
             "#c51b7d"
            ],
            [
             0.2,
             "#de77ae"
            ],
            [
             0.3,
             "#f1b6da"
            ],
            [
             0.4,
             "#fde0ef"
            ],
            [
             0.5,
             "#f7f7f7"
            ],
            [
             0.6,
             "#e6f5d0"
            ],
            [
             0.7,
             "#b8e186"
            ],
            [
             0.8,
             "#7fbc41"
            ],
            [
             0.9,
             "#4d9221"
            ],
            [
             1,
             "#276419"
            ]
           ],
           "sequential": [
            [
             0,
             "#0d0887"
            ],
            [
             0.1111111111111111,
             "#46039f"
            ],
            [
             0.2222222222222222,
             "#7201a8"
            ],
            [
             0.3333333333333333,
             "#9c179e"
            ],
            [
             0.4444444444444444,
             "#bd3786"
            ],
            [
             0.5555555555555556,
             "#d8576b"
            ],
            [
             0.6666666666666666,
             "#ed7953"
            ],
            [
             0.7777777777777778,
             "#fb9f3a"
            ],
            [
             0.8888888888888888,
             "#fdca26"
            ],
            [
             1,
             "#f0f921"
            ]
           ],
           "sequentialminus": [
            [
             0,
             "#0d0887"
            ],
            [
             0.1111111111111111,
             "#46039f"
            ],
            [
             0.2222222222222222,
             "#7201a8"
            ],
            [
             0.3333333333333333,
             "#9c179e"
            ],
            [
             0.4444444444444444,
             "#bd3786"
            ],
            [
             0.5555555555555556,
             "#d8576b"
            ],
            [
             0.6666666666666666,
             "#ed7953"
            ],
            [
             0.7777777777777778,
             "#fb9f3a"
            ],
            [
             0.8888888888888888,
             "#fdca26"
            ],
            [
             1,
             "#f0f921"
            ]
           ]
          },
          "colorway": [
           "#636efa",
           "#EF553B",
           "#00cc96",
           "#ab63fa",
           "#FFA15A",
           "#19d3f3",
           "#FF6692",
           "#B6E880",
           "#FF97FF",
           "#FECB52"
          ],
          "font": {
           "color": "#2a3f5f"
          },
          "geo": {
           "bgcolor": "white",
           "lakecolor": "white",
           "landcolor": "#E5ECF6",
           "showlakes": true,
           "showland": true,
           "subunitcolor": "white"
          },
          "hoverlabel": {
           "align": "left"
          },
          "hovermode": "closest",
          "mapbox": {
           "style": "light"
          },
          "paper_bgcolor": "white",
          "plot_bgcolor": "#E5ECF6",
          "polar": {
           "angularaxis": {
            "gridcolor": "white",
            "linecolor": "white",
            "ticks": ""
           },
           "bgcolor": "#E5ECF6",
           "radialaxis": {
            "gridcolor": "white",
            "linecolor": "white",
            "ticks": ""
           }
          },
          "scene": {
           "xaxis": {
            "backgroundcolor": "#E5ECF6",
            "gridcolor": "white",
            "gridwidth": 2,
            "linecolor": "white",
            "showbackground": true,
            "ticks": "",
            "zerolinecolor": "white"
           },
           "yaxis": {
            "backgroundcolor": "#E5ECF6",
            "gridcolor": "white",
            "gridwidth": 2,
            "linecolor": "white",
            "showbackground": true,
            "ticks": "",
            "zerolinecolor": "white"
           },
           "zaxis": {
            "backgroundcolor": "#E5ECF6",
            "gridcolor": "white",
            "gridwidth": 2,
            "linecolor": "white",
            "showbackground": true,
            "ticks": "",
            "zerolinecolor": "white"
           }
          },
          "shapedefaults": {
           "line": {
            "color": "#2a3f5f"
           }
          },
          "ternary": {
           "aaxis": {
            "gridcolor": "white",
            "linecolor": "white",
            "ticks": ""
           },
           "baxis": {
            "gridcolor": "white",
            "linecolor": "white",
            "ticks": ""
           },
           "bgcolor": "#E5ECF6",
           "caxis": {
            "gridcolor": "white",
            "linecolor": "white",
            "ticks": ""
           }
          },
          "title": {
           "x": 0.05
          },
          "xaxis": {
           "automargin": true,
           "gridcolor": "white",
           "linecolor": "white",
           "ticks": "",
           "title": {
            "standoff": 15
           },
           "zerolinecolor": "white",
           "zerolinewidth": 2
          },
          "yaxis": {
           "automargin": true,
           "gridcolor": "white",
           "linecolor": "white",
           "ticks": "",
           "title": {
            "standoff": 15
           },
           "zerolinecolor": "white",
           "zerolinewidth": 2
          }
         }
        },
        "title": {
         "text": "Total company valuations by country (non-big-four)"
        }
       }
      },
      "text/html": [
       "<div>                            <div id=\"0abcd775-2977-46ac-8202-d1555989ddc4\" class=\"plotly-graph-div\" style=\"height:525px; width:100%;\"></div>            <script type=\"text/javascript\">                require([\"plotly\"], function(Plotly) {                    window.PLOTLYENV=window.PLOTLYENV || {};                                    if (document.getElementById(\"0abcd775-2977-46ac-8202-d1555989ddc4\")) {                    Plotly.newPlot(                        \"0abcd775-2977-46ac-8202-d1555989ddc4\",                        [{\"geo\":\"geo\",\"hovertemplate\":\"Country/Region=%{location}<br>valuation_clean=%{marker.size}<extra></extra>\",\"legendgroup\":\"Germany\",\"locationmode\":\"country names\",\"locations\":[\"Germany\"],\"marker\":{\"color\":\"#636efa\",\"size\":[72000000000],\"sizemode\":\"area\",\"sizeref\":180000000.0,\"symbol\":\"circle\"},\"mode\":\"markers\",\"name\":\"Germany\",\"showlegend\":true,\"type\":\"scattergeo\"},{\"geo\":\"geo\",\"hovertemplate\":\"Country/Region=%{location}<br>valuation_clean=%{marker.size}<extra></extra>\",\"legendgroup\":\"Sweden\",\"locationmode\":\"country names\",\"locations\":[\"Sweden\"],\"marker\":{\"color\":\"#EF553B\",\"size\":[63000000000],\"sizemode\":\"area\",\"sizeref\":180000000.0,\"symbol\":\"circle\"},\"mode\":\"markers\",\"name\":\"Sweden\",\"showlegend\":true,\"type\":\"scattergeo\"},{\"geo\":\"geo\",\"hovertemplate\":\"Country/Region=%{location}<br>valuation_clean=%{marker.size}<extra></extra>\",\"legendgroup\":\"Australia\",\"locationmode\":\"country names\",\"locations\":[\"Australia\"],\"marker\":{\"color\":\"#00cc96\",\"size\":[56000000000],\"sizemode\":\"area\",\"sizeref\":180000000.0,\"symbol\":\"circle\"},\"mode\":\"markers\",\"name\":\"Australia\",\"showlegend\":true,\"type\":\"scattergeo\"},{\"geo\":\"geo\",\"hovertemplate\":\"Country/Region=%{location}<br>valuation_clean=%{marker.size}<extra></extra>\",\"legendgroup\":\"France\",\"locationmode\":\"country names\",\"locations\":[\"France\"],\"marker\":{\"color\":\"#ab63fa\",\"size\":[55000000000],\"sizemode\":\"area\",\"sizeref\":180000000.0,\"symbol\":\"circle\"},\"mode\":\"markers\",\"name\":\"France\",\"showlegend\":true,\"type\":\"scattergeo\"},{\"geo\":\"geo\",\"hovertemplate\":\"Country/Region=%{location}<br>valuation_clean=%{marker.size}<extra></extra>\",\"legendgroup\":\"Canada\",\"locationmode\":\"country names\",\"locations\":[\"Canada\"],\"marker\":{\"color\":\"#FFA15A\",\"size\":[49000000000],\"sizemode\":\"area\",\"sizeref\":180000000.0,\"symbol\":\"circle\"},\"mode\":\"markers\",\"name\":\"Canada\",\"showlegend\":true,\"type\":\"scattergeo\"},{\"geo\":\"geo\",\"hovertemplate\":\"Country/Region=%{location}<br>valuation_clean=%{marker.size}<extra></extra>\",\"legendgroup\":\"South Korea\",\"locationmode\":\"country names\",\"locations\":[\"South Korea\"],\"marker\":{\"color\":\"#19d3f3\",\"size\":[41000000000],\"sizemode\":\"area\",\"sizeref\":180000000.0,\"symbol\":\"circle\"},\"mode\":\"markers\",\"name\":\"South Korea\",\"showlegend\":true,\"type\":\"scattergeo\"},{\"geo\":\"geo\",\"hovertemplate\":\"Country/Region=%{location}<br>valuation_clean=%{marker.size}<extra></extra>\",\"legendgroup\":\"Israel\",\"locationmode\":\"country names\",\"locations\":[\"Israel\"],\"marker\":{\"color\":\"#FF6692\",\"size\":[39000000000],\"sizemode\":\"area\",\"sizeref\":180000000.0,\"symbol\":\"circle\"},\"mode\":\"markers\",\"name\":\"Israel\",\"showlegend\":true,\"type\":\"scattergeo\"},{\"geo\":\"geo\",\"hovertemplate\":\"Country/Region=%{location}<br>valuation_clean=%{marker.size}<extra></extra>\",\"legendgroup\":\"Brazil\",\"locationmode\":\"country names\",\"locations\":[\"Brazil\"],\"marker\":{\"color\":\"#B6E880\",\"size\":[37000000000],\"sizemode\":\"area\",\"sizeref\":180000000.0,\"symbol\":\"circle\"},\"mode\":\"markers\",\"name\":\"Brazil\",\"showlegend\":true,\"type\":\"scattergeo\"},{\"geo\":\"geo\",\"hovertemplate\":\"Country/Region=%{location}<br>valuation_clean=%{marker.size}<extra></extra>\",\"legendgroup\":\"Bahamas\",\"locationmode\":\"country names\",\"locations\":[\"Bahamas\"],\"marker\":{\"color\":\"#FF97FF\",\"size\":[32000000000],\"sizemode\":\"area\",\"sizeref\":180000000.0,\"symbol\":\"circle\"},\"mode\":\"markers\",\"name\":\"Bahamas\",\"showlegend\":true,\"type\":\"scattergeo\"},{\"geo\":\"geo\",\"hovertemplate\":\"Country/Region=%{location}<br>valuation_clean=%{marker.size}<extra></extra>\",\"legendgroup\":\"Indonesia\",\"locationmode\":\"country names\",\"locations\":[\"Indonesia\"],\"marker\":{\"color\":\"#FECB52\",\"size\":[28000000000],\"sizemode\":\"area\",\"sizeref\":180000000.0,\"symbol\":\"circle\"},\"mode\":\"markers\",\"name\":\"Indonesia\",\"showlegend\":true,\"type\":\"scattergeo\"},{\"geo\":\"geo\",\"hovertemplate\":\"Country/Region=%{location}<br>valuation_clean=%{marker.size}<extra></extra>\",\"legendgroup\":\"Singapore\",\"locationmode\":\"country names\",\"locations\":[\"Singapore\"],\"marker\":{\"color\":\"#636efa\",\"size\":[21000000000],\"sizemode\":\"area\",\"sizeref\":180000000.0,\"symbol\":\"circle\"},\"mode\":\"markers\",\"name\":\"Singapore\",\"showlegend\":true,\"type\":\"scattergeo\"},{\"geo\":\"geo\",\"hovertemplate\":\"Country/Region=%{location}<br>valuation_clean=%{marker.size}<extra></extra>\",\"legendgroup\":\"Netherlands\",\"locationmode\":\"country names\",\"locations\":[\"Netherlands\"],\"marker\":{\"color\":\"#EF553B\",\"size\":[19000000000],\"sizemode\":\"area\",\"sizeref\":180000000.0,\"symbol\":\"circle\"},\"mode\":\"markers\",\"name\":\"Netherlands\",\"showlegend\":true,\"type\":\"scattergeo\"},{\"geo\":\"geo\",\"hovertemplate\":\"Country/Region=%{location}<br>valuation_clean=%{marker.size}<extra></extra>\",\"legendgroup\":\"Hong Kong\",\"locationmode\":\"country names\",\"locations\":[\"Hong Kong\"],\"marker\":{\"color\":\"#00cc96\",\"size\":[18000000000],\"sizemode\":\"area\",\"sizeref\":180000000.0,\"symbol\":\"circle\"},\"mode\":\"markers\",\"name\":\"Hong Kong\",\"showlegend\":true,\"type\":\"scattergeo\"},{\"geo\":\"geo\",\"hovertemplate\":\"Country/Region=%{location}<br>valuation_clean=%{marker.size}<extra></extra>\",\"legendgroup\":\"Turkey\",\"locationmode\":\"country names\",\"locations\":[\"Turkey\"],\"marker\":{\"color\":\"#ab63fa\",\"size\":[16000000000],\"sizemode\":\"area\",\"sizeref\":180000000.0,\"symbol\":\"circle\"},\"mode\":\"markers\",\"name\":\"Turkey\",\"showlegend\":true,\"type\":\"scattergeo\"},{\"geo\":\"geo\",\"hovertemplate\":\"Country/Region=%{location}<br>valuation_clean=%{marker.size}<extra></extra>\",\"legendgroup\":\"Mexico\",\"locationmode\":\"country names\",\"locations\":[\"Mexico\"],\"marker\":{\"color\":\"#FFA15A\",\"size\":[16000000000],\"sizemode\":\"area\",\"sizeref\":180000000.0,\"symbol\":\"circle\"},\"mode\":\"markers\",\"name\":\"Mexico\",\"showlegend\":true,\"type\":\"scattergeo\"},{\"geo\":\"geo\",\"hovertemplate\":\"Country/Region=%{location}<br>valuation_clean=%{marker.size}<extra></extra>\",\"legendgroup\":\"Estonia\",\"locationmode\":\"country names\",\"locations\":[\"Estonia\"],\"marker\":{\"color\":\"#19d3f3\",\"size\":[13000000000],\"sizemode\":\"area\",\"sizeref\":180000000.0,\"symbol\":\"circle\"},\"mode\":\"markers\",\"name\":\"Estonia\",\"showlegend\":true,\"type\":\"scattergeo\"},{\"geo\":\"geo\",\"hovertemplate\":\"Country/Region=%{location}<br>valuation_clean=%{marker.size}<extra></extra>\",\"legendgroup\":\"Finland\",\"locationmode\":\"country names\",\"locations\":[\"Finland\"],\"marker\":{\"color\":\"#FF6692\",\"size\":[12000000000],\"sizemode\":\"area\",\"sizeref\":180000000.0,\"symbol\":\"circle\"},\"mode\":\"markers\",\"name\":\"Finland\",\"showlegend\":true,\"type\":\"scattergeo\"},{\"geo\":\"geo\",\"hovertemplate\":\"Country/Region=%{location}<br>valuation_clean=%{marker.size}<extra></extra>\",\"legendgroup\":\"Ireland\",\"locationmode\":\"country names\",\"locations\":[\"Ireland\"],\"marker\":{\"color\":\"#B6E880\",\"size\":[9000000000],\"sizemode\":\"area\",\"sizeref\":180000000.0,\"symbol\":\"circle\"},\"mode\":\"markers\",\"name\":\"Ireland\",\"showlegend\":true,\"type\":\"scattergeo\"},{\"geo\":\"geo\",\"hovertemplate\":\"Country/Region=%{location}<br>valuation_clean=%{marker.size}<extra></extra>\",\"legendgroup\":\"Switzerland\",\"locationmode\":\"country names\",\"locations\":[\"Switzerland\"],\"marker\":{\"color\":\"#FF97FF\",\"size\":[8000000000],\"sizemode\":\"area\",\"sizeref\":180000000.0,\"symbol\":\"circle\"},\"mode\":\"markers\",\"name\":\"Switzerland\",\"showlegend\":true,\"type\":\"scattergeo\"},{\"geo\":\"geo\",\"hovertemplate\":\"Country/Region=%{location}<br>valuation_clean=%{marker.size}<extra></extra>\",\"legendgroup\":\"Japan\",\"locationmode\":\"country names\",\"locations\":[\"Japan\"],\"marker\":{\"color\":\"#FECB52\",\"size\":[8000000000],\"sizemode\":\"area\",\"sizeref\":180000000.0,\"symbol\":\"circle\"},\"mode\":\"markers\",\"name\":\"Japan\",\"showlegend\":true,\"type\":\"scattergeo\"},{\"geo\":\"geo\",\"hovertemplate\":\"Country/Region=%{location}<br>valuation_clean=%{marker.size}<extra></extra>\",\"legendgroup\":\"Belgium\",\"locationmode\":\"country names\",\"locations\":[\"Belgium\"],\"marker\":{\"color\":\"#636efa\",\"size\":[8000000000],\"sizemode\":\"area\",\"sizeref\":180000000.0,\"symbol\":\"circle\"},\"mode\":\"markers\",\"name\":\"Belgium\",\"showlegend\":true,\"type\":\"scattergeo\"},{\"geo\":\"geo\",\"hovertemplate\":\"Country/Region=%{location}<br>valuation_clean=%{marker.size}<extra></extra>\",\"legendgroup\":\"Denmark\",\"locationmode\":\"country names\",\"locations\":[\"Denmark\"],\"marker\":{\"color\":\"#EF553B\",\"size\":[7000000000],\"sizemode\":\"area\",\"sizeref\":180000000.0,\"symbol\":\"circle\"},\"mode\":\"markers\",\"name\":\"Denmark\",\"showlegend\":true,\"type\":\"scattergeo\"},{\"geo\":\"geo\",\"hovertemplate\":\"Country/Region=%{location}<br>valuation_clean=%{marker.size}<extra></extra>\",\"legendgroup\":\"Austria\",\"locationmode\":\"country names\",\"locations\":[\"Austria\"],\"marker\":{\"color\":\"#00cc96\",\"size\":[7000000000],\"sizemode\":\"area\",\"sizeref\":180000000.0,\"symbol\":\"circle\"},\"mode\":\"markers\",\"name\":\"Austria\",\"showlegend\":true,\"type\":\"scattergeo\"},{\"geo\":\"geo\",\"hovertemplate\":\"Country/Region=%{location}<br>valuation_clean=%{marker.size}<extra></extra>\",\"legendgroup\":\"Colombia\",\"locationmode\":\"country names\",\"locations\":[\"Colombia\"],\"marker\":{\"color\":\"#ab63fa\",\"size\":[6000000000],\"sizemode\":\"area\",\"sizeref\":180000000.0,\"symbol\":\"circle\"},\"mode\":\"markers\",\"name\":\"Colombia\",\"showlegend\":true,\"type\":\"scattergeo\"},{\"geo\":\"geo\",\"hovertemplate\":\"Country/Region=%{location}<br>valuation_clean=%{marker.size}<extra></extra>\",\"legendgroup\":\"Norway\",\"locationmode\":\"country names\",\"locations\":[\"Norway\"],\"marker\":{\"color\":\"#FFA15A\",\"size\":[5000000000],\"sizemode\":\"area\",\"sizeref\":180000000.0,\"symbol\":\"circle\"},\"mode\":\"markers\",\"name\":\"Norway\",\"showlegend\":true,\"type\":\"scattergeo\"},{\"geo\":\"geo\",\"hovertemplate\":\"Country/Region=%{location}<br>valuation_clean=%{marker.size}<extra></extra>\",\"legendgroup\":\"Vietnam\",\"locationmode\":\"country names\",\"locations\":[\"Vietnam\"],\"marker\":{\"color\":\"#19d3f3\",\"size\":[5000000000],\"sizemode\":\"area\",\"sizeref\":180000000.0,\"symbol\":\"circle\"},\"mode\":\"markers\",\"name\":\"Vietnam\",\"showlegend\":true,\"type\":\"scattergeo\"},{\"geo\":\"geo\",\"hovertemplate\":\"Country/Region=%{location}<br>valuation_clean=%{marker.size}<extra></extra>\",\"legendgroup\":\"Lithuania\",\"locationmode\":\"country names\",\"locations\":[\"Lithuania\"],\"marker\":{\"color\":\"#FF6692\",\"size\":[5000000000],\"sizemode\":\"area\",\"sizeref\":180000000.0,\"symbol\":\"circle\"},\"mode\":\"markers\",\"name\":\"Lithuania\",\"showlegend\":true,\"type\":\"scattergeo\"},{\"geo\":\"geo\",\"hovertemplate\":\"Country/Region=%{location}<br>valuation_clean=%{marker.size}<extra></extra>\",\"legendgroup\":\"United Arab Emirates\",\"locationmode\":\"country names\",\"locations\":[\"United Arab Emirates\"],\"marker\":{\"color\":\"#B6E880\",\"size\":[5000000000],\"sizemode\":\"area\",\"sizeref\":180000000.0,\"symbol\":\"circle\"},\"mode\":\"markers\",\"name\":\"United Arab Emirates\",\"showlegend\":true,\"type\":\"scattergeo\"},{\"geo\":\"geo\",\"hovertemplate\":\"Country/Region=%{location}<br>valuation_clean=%{marker.size}<extra></extra>\",\"legendgroup\":\"Spain\",\"locationmode\":\"country names\",\"locations\":[\"Spain\"],\"marker\":{\"color\":\"#FF97FF\",\"size\":[4000000000],\"sizemode\":\"area\",\"sizeref\":180000000.0,\"symbol\":\"circle\"},\"mode\":\"markers\",\"name\":\"Spain\",\"showlegend\":true,\"type\":\"scattergeo\"},{\"geo\":\"geo\",\"hovertemplate\":\"Country/Region=%{location}<br>valuation_clean=%{marker.size}<extra></extra>\",\"legendgroup\":\"Chile\",\"locationmode\":\"country names\",\"locations\":[\"Chile\"],\"marker\":{\"color\":\"#FECB52\",\"size\":[3000000000],\"sizemode\":\"area\",\"sizeref\":180000000.0,\"symbol\":\"circle\"},\"mode\":\"markers\",\"name\":\"Chile\",\"showlegend\":true,\"type\":\"scattergeo\"},{\"geo\":\"geo\",\"hovertemplate\":\"Country/Region=%{location}<br>valuation_clean=%{marker.size}<extra></extra>\",\"legendgroup\":\"Philippines\",\"locationmode\":\"country names\",\"locations\":[\"Philippines\"],\"marker\":{\"color\":\"#636efa\",\"size\":[3000000000],\"sizemode\":\"area\",\"sizeref\":180000000.0,\"symbol\":\"circle\"},\"mode\":\"markers\",\"name\":\"Philippines\",\"showlegend\":true,\"type\":\"scattergeo\"},{\"geo\":\"geo\",\"hovertemplate\":\"Country/Region=%{location}<br>valuation_clean=%{marker.size}<extra></extra>\",\"legendgroup\":\"South Africa\",\"locationmode\":\"country names\",\"locations\":[\"South Africa\"],\"marker\":{\"color\":\"#EF553B\",\"size\":[3000000000],\"sizemode\":\"area\",\"sizeref\":180000000.0,\"symbol\":\"circle\"},\"mode\":\"markers\",\"name\":\"South Africa\",\"showlegend\":true,\"type\":\"scattergeo\"},{\"geo\":\"geo\",\"hovertemplate\":\"Country/Region=%{location}<br>valuation_clean=%{marker.size}<extra></extra>\",\"legendgroup\":\"Thailand\",\"locationmode\":\"country names\",\"locations\":[\"Thailand\"],\"marker\":{\"color\":\"#00cc96\",\"size\":[3000000000],\"sizemode\":\"area\",\"sizeref\":180000000.0,\"symbol\":\"circle\"},\"mode\":\"markers\",\"name\":\"Thailand\",\"showlegend\":true,\"type\":\"scattergeo\"},{\"geo\":\"geo\",\"hovertemplate\":\"Country/Region=%{location}<br>valuation_clean=%{marker.size}<extra></extra>\",\"legendgroup\":\"Argentina\",\"locationmode\":\"country names\",\"locations\":[\"Argentina\"],\"marker\":{\"color\":\"#ab63fa\",\"size\":[2000000000],\"sizemode\":\"area\",\"sizeref\":180000000.0,\"symbol\":\"circle\"},\"mode\":\"markers\",\"name\":\"Argentina\",\"showlegend\":true,\"type\":\"scattergeo\"},{\"geo\":\"geo\",\"hovertemplate\":\"Country/Region=%{location}<br>valuation_clean=%{marker.size}<extra></extra>\",\"legendgroup\":\"Senegal\",\"locationmode\":\"country names\",\"locations\":[\"Senegal\"],\"marker\":{\"color\":\"#FFA15A\",\"size\":[2000000000],\"sizemode\":\"area\",\"sizeref\":180000000.0,\"symbol\":\"circle\"},\"mode\":\"markers\",\"name\":\"Senegal\",\"showlegend\":true,\"type\":\"scattergeo\"},{\"geo\":\"geo\",\"hovertemplate\":\"Country/Region=%{location}<br>valuation_clean=%{marker.size}<extra></extra>\",\"legendgroup\":\"Nigeria\",\"locationmode\":\"country names\",\"locations\":[\"Nigeria\"],\"marker\":{\"color\":\"#19d3f3\",\"size\":[2000000000],\"sizemode\":\"area\",\"sizeref\":180000000.0,\"symbol\":\"circle\"},\"mode\":\"markers\",\"name\":\"Nigeria\",\"showlegend\":true,\"type\":\"scattergeo\"},{\"geo\":\"geo\",\"hovertemplate\":\"Country/Region=%{location}<br>valuation_clean=%{marker.size}<extra></extra>\",\"legendgroup\":\"Malaysia\",\"locationmode\":\"country names\",\"locations\":[\"Malaysia\"],\"marker\":{\"color\":\"#FF6692\",\"size\":[2000000000],\"sizemode\":\"area\",\"sizeref\":180000000.0,\"symbol\":\"circle\"},\"mode\":\"markers\",\"name\":\"Malaysia\",\"showlegend\":true,\"type\":\"scattergeo\"},{\"geo\":\"geo\",\"hovertemplate\":\"Country/Region=%{location}<br>valuation_clean=%{marker.size}<extra></extra>\",\"legendgroup\":\"Luxembourg\",\"locationmode\":\"country names\",\"locations\":[\"Luxembourg\"],\"marker\":{\"color\":\"#B6E880\",\"size\":[2000000000],\"sizemode\":\"area\",\"sizeref\":180000000.0,\"symbol\":\"circle\"},\"mode\":\"markers\",\"name\":\"Luxembourg\",\"showlegend\":true,\"type\":\"scattergeo\"},{\"geo\":\"geo\",\"hovertemplate\":\"Country/Region=%{location}<br>valuation_clean=%{marker.size}<extra></extra>\",\"legendgroup\":\"Bermuda\",\"locationmode\":\"country names\",\"locations\":[\"Bermuda\"],\"marker\":{\"color\":\"#FF97FF\",\"size\":[2000000000],\"sizemode\":\"area\",\"sizeref\":180000000.0,\"symbol\":\"circle\"},\"mode\":\"markers\",\"name\":\"Bermuda\",\"showlegend\":true,\"type\":\"scattergeo\"},{\"geo\":\"geo\",\"hovertemplate\":\"Country/Region=%{location}<br>valuation_clean=%{marker.size}<extra></extra>\",\"legendgroup\":\"Czech Republic\",\"locationmode\":\"country names\",\"locations\":[\"Czech Republic\"],\"marker\":{\"color\":\"#FECB52\",\"size\":[1000000000],\"sizemode\":\"area\",\"sizeref\":180000000.0,\"symbol\":\"circle\"},\"mode\":\"markers\",\"name\":\"Czech Republic\",\"showlegend\":true,\"type\":\"scattergeo\"},{\"geo\":\"geo\",\"hovertemplate\":\"Country/Region=%{location}<br>valuation_clean=%{marker.size}<extra></extra>\",\"legendgroup\":\"Croatia\",\"locationmode\":\"country names\",\"locations\":[\"Croatia\"],\"marker\":{\"color\":\"#636efa\",\"size\":[1000000000],\"sizemode\":\"area\",\"sizeref\":180000000.0,\"symbol\":\"circle\"},\"mode\":\"markers\",\"name\":\"Croatia\",\"showlegend\":true,\"type\":\"scattergeo\"},{\"geo\":\"geo\",\"hovertemplate\":\"Country/Region=%{location}<br>valuation_clean=%{marker.size}<extra></extra>\",\"legendgroup\":\"Italy\",\"locationmode\":\"country names\",\"locations\":[\"Italy\"],\"marker\":{\"color\":\"#EF553B\",\"size\":[1000000000],\"sizemode\":\"area\",\"sizeref\":180000000.0,\"symbol\":\"circle\"},\"mode\":\"markers\",\"name\":\"Italy\",\"showlegend\":true,\"type\":\"scattergeo\"}],                        {\"template\":{\"data\":{\"histogram2dcontour\":[{\"type\":\"histogram2dcontour\",\"colorbar\":{\"outlinewidth\":0,\"ticks\":\"\"},\"colorscale\":[[0.0,\"#0d0887\"],[0.1111111111111111,\"#46039f\"],[0.2222222222222222,\"#7201a8\"],[0.3333333333333333,\"#9c179e\"],[0.4444444444444444,\"#bd3786\"],[0.5555555555555556,\"#d8576b\"],[0.6666666666666666,\"#ed7953\"],[0.7777777777777778,\"#fb9f3a\"],[0.8888888888888888,\"#fdca26\"],[1.0,\"#f0f921\"]]}],\"choropleth\":[{\"type\":\"choropleth\",\"colorbar\":{\"outlinewidth\":0,\"ticks\":\"\"}}],\"histogram2d\":[{\"type\":\"histogram2d\",\"colorbar\":{\"outlinewidth\":0,\"ticks\":\"\"},\"colorscale\":[[0.0,\"#0d0887\"],[0.1111111111111111,\"#46039f\"],[0.2222222222222222,\"#7201a8\"],[0.3333333333333333,\"#9c179e\"],[0.4444444444444444,\"#bd3786\"],[0.5555555555555556,\"#d8576b\"],[0.6666666666666666,\"#ed7953\"],[0.7777777777777778,\"#fb9f3a\"],[0.8888888888888888,\"#fdca26\"],[1.0,\"#f0f921\"]]}],\"heatmap\":[{\"type\":\"heatmap\",\"colorbar\":{\"outlinewidth\":0,\"ticks\":\"\"},\"colorscale\":[[0.0,\"#0d0887\"],[0.1111111111111111,\"#46039f\"],[0.2222222222222222,\"#7201a8\"],[0.3333333333333333,\"#9c179e\"],[0.4444444444444444,\"#bd3786\"],[0.5555555555555556,\"#d8576b\"],[0.6666666666666666,\"#ed7953\"],[0.7777777777777778,\"#fb9f3a\"],[0.8888888888888888,\"#fdca26\"],[1.0,\"#f0f921\"]]}],\"heatmapgl\":[{\"type\":\"heatmapgl\",\"colorbar\":{\"outlinewidth\":0,\"ticks\":\"\"},\"colorscale\":[[0.0,\"#0d0887\"],[0.1111111111111111,\"#46039f\"],[0.2222222222222222,\"#7201a8\"],[0.3333333333333333,\"#9c179e\"],[0.4444444444444444,\"#bd3786\"],[0.5555555555555556,\"#d8576b\"],[0.6666666666666666,\"#ed7953\"],[0.7777777777777778,\"#fb9f3a\"],[0.8888888888888888,\"#fdca26\"],[1.0,\"#f0f921\"]]}],\"contourcarpet\":[{\"type\":\"contourcarpet\",\"colorbar\":{\"outlinewidth\":0,\"ticks\":\"\"}}],\"contour\":[{\"type\":\"contour\",\"colorbar\":{\"outlinewidth\":0,\"ticks\":\"\"},\"colorscale\":[[0.0,\"#0d0887\"],[0.1111111111111111,\"#46039f\"],[0.2222222222222222,\"#7201a8\"],[0.3333333333333333,\"#9c179e\"],[0.4444444444444444,\"#bd3786\"],[0.5555555555555556,\"#d8576b\"],[0.6666666666666666,\"#ed7953\"],[0.7777777777777778,\"#fb9f3a\"],[0.8888888888888888,\"#fdca26\"],[1.0,\"#f0f921\"]]}],\"surface\":[{\"type\":\"surface\",\"colorbar\":{\"outlinewidth\":0,\"ticks\":\"\"},\"colorscale\":[[0.0,\"#0d0887\"],[0.1111111111111111,\"#46039f\"],[0.2222222222222222,\"#7201a8\"],[0.3333333333333333,\"#9c179e\"],[0.4444444444444444,\"#bd3786\"],[0.5555555555555556,\"#d8576b\"],[0.6666666666666666,\"#ed7953\"],[0.7777777777777778,\"#fb9f3a\"],[0.8888888888888888,\"#fdca26\"],[1.0,\"#f0f921\"]]}],\"mesh3d\":[{\"type\":\"mesh3d\",\"colorbar\":{\"outlinewidth\":0,\"ticks\":\"\"}}],\"scatter\":[{\"fillpattern\":{\"fillmode\":\"overlay\",\"size\":10,\"solidity\":0.2},\"type\":\"scatter\"}],\"parcoords\":[{\"type\":\"parcoords\",\"line\":{\"colorbar\":{\"outlinewidth\":0,\"ticks\":\"\"}}}],\"scatterpolargl\":[{\"type\":\"scatterpolargl\",\"marker\":{\"colorbar\":{\"outlinewidth\":0,\"ticks\":\"\"}}}],\"bar\":[{\"error_x\":{\"color\":\"#2a3f5f\"},\"error_y\":{\"color\":\"#2a3f5f\"},\"marker\":{\"line\":{\"color\":\"#E5ECF6\",\"width\":0.5},\"pattern\":{\"fillmode\":\"overlay\",\"size\":10,\"solidity\":0.2}},\"type\":\"bar\"}],\"scattergeo\":[{\"type\":\"scattergeo\",\"marker\":{\"colorbar\":{\"outlinewidth\":0,\"ticks\":\"\"}}}],\"scatterpolar\":[{\"type\":\"scatterpolar\",\"marker\":{\"colorbar\":{\"outlinewidth\":0,\"ticks\":\"\"}}}],\"histogram\":[{\"marker\":{\"pattern\":{\"fillmode\":\"overlay\",\"size\":10,\"solidity\":0.2}},\"type\":\"histogram\"}],\"scattergl\":[{\"type\":\"scattergl\",\"marker\":{\"colorbar\":{\"outlinewidth\":0,\"ticks\":\"\"}}}],\"scatter3d\":[{\"type\":\"scatter3d\",\"line\":{\"colorbar\":{\"outlinewidth\":0,\"ticks\":\"\"}},\"marker\":{\"colorbar\":{\"outlinewidth\":0,\"ticks\":\"\"}}}],\"scattermapbox\":[{\"type\":\"scattermapbox\",\"marker\":{\"colorbar\":{\"outlinewidth\":0,\"ticks\":\"\"}}}],\"scatterternary\":[{\"type\":\"scatterternary\",\"marker\":{\"colorbar\":{\"outlinewidth\":0,\"ticks\":\"\"}}}],\"scattercarpet\":[{\"type\":\"scattercarpet\",\"marker\":{\"colorbar\":{\"outlinewidth\":0,\"ticks\":\"\"}}}],\"carpet\":[{\"aaxis\":{\"endlinecolor\":\"#2a3f5f\",\"gridcolor\":\"white\",\"linecolor\":\"white\",\"minorgridcolor\":\"white\",\"startlinecolor\":\"#2a3f5f\"},\"baxis\":{\"endlinecolor\":\"#2a3f5f\",\"gridcolor\":\"white\",\"linecolor\":\"white\",\"minorgridcolor\":\"white\",\"startlinecolor\":\"#2a3f5f\"},\"type\":\"carpet\"}],\"table\":[{\"cells\":{\"fill\":{\"color\":\"#EBF0F8\"},\"line\":{\"color\":\"white\"}},\"header\":{\"fill\":{\"color\":\"#C8D4E3\"},\"line\":{\"color\":\"white\"}},\"type\":\"table\"}],\"barpolar\":[{\"marker\":{\"line\":{\"color\":\"#E5ECF6\",\"width\":0.5},\"pattern\":{\"fillmode\":\"overlay\",\"size\":10,\"solidity\":0.2}},\"type\":\"barpolar\"}],\"pie\":[{\"automargin\":true,\"type\":\"pie\"}]},\"layout\":{\"autotypenumbers\":\"strict\",\"colorway\":[\"#636efa\",\"#EF553B\",\"#00cc96\",\"#ab63fa\",\"#FFA15A\",\"#19d3f3\",\"#FF6692\",\"#B6E880\",\"#FF97FF\",\"#FECB52\"],\"font\":{\"color\":\"#2a3f5f\"},\"hovermode\":\"closest\",\"hoverlabel\":{\"align\":\"left\"},\"paper_bgcolor\":\"white\",\"plot_bgcolor\":\"#E5ECF6\",\"polar\":{\"bgcolor\":\"#E5ECF6\",\"angularaxis\":{\"gridcolor\":\"white\",\"linecolor\":\"white\",\"ticks\":\"\"},\"radialaxis\":{\"gridcolor\":\"white\",\"linecolor\":\"white\",\"ticks\":\"\"}},\"ternary\":{\"bgcolor\":\"#E5ECF6\",\"aaxis\":{\"gridcolor\":\"white\",\"linecolor\":\"white\",\"ticks\":\"\"},\"baxis\":{\"gridcolor\":\"white\",\"linecolor\":\"white\",\"ticks\":\"\"},\"caxis\":{\"gridcolor\":\"white\",\"linecolor\":\"white\",\"ticks\":\"\"}},\"coloraxis\":{\"colorbar\":{\"outlinewidth\":0,\"ticks\":\"\"}},\"colorscale\":{\"sequential\":[[0.0,\"#0d0887\"],[0.1111111111111111,\"#46039f\"],[0.2222222222222222,\"#7201a8\"],[0.3333333333333333,\"#9c179e\"],[0.4444444444444444,\"#bd3786\"],[0.5555555555555556,\"#d8576b\"],[0.6666666666666666,\"#ed7953\"],[0.7777777777777778,\"#fb9f3a\"],[0.8888888888888888,\"#fdca26\"],[1.0,\"#f0f921\"]],\"sequentialminus\":[[0.0,\"#0d0887\"],[0.1111111111111111,\"#46039f\"],[0.2222222222222222,\"#7201a8\"],[0.3333333333333333,\"#9c179e\"],[0.4444444444444444,\"#bd3786\"],[0.5555555555555556,\"#d8576b\"],[0.6666666666666666,\"#ed7953\"],[0.7777777777777778,\"#fb9f3a\"],[0.8888888888888888,\"#fdca26\"],[1.0,\"#f0f921\"]],\"diverging\":[[0,\"#8e0152\"],[0.1,\"#c51b7d\"],[0.2,\"#de77ae\"],[0.3,\"#f1b6da\"],[0.4,\"#fde0ef\"],[0.5,\"#f7f7f7\"],[0.6,\"#e6f5d0\"],[0.7,\"#b8e186\"],[0.8,\"#7fbc41\"],[0.9,\"#4d9221\"],[1,\"#276419\"]]},\"xaxis\":{\"gridcolor\":\"white\",\"linecolor\":\"white\",\"ticks\":\"\",\"title\":{\"standoff\":15},\"zerolinecolor\":\"white\",\"automargin\":true,\"zerolinewidth\":2},\"yaxis\":{\"gridcolor\":\"white\",\"linecolor\":\"white\",\"ticks\":\"\",\"title\":{\"standoff\":15},\"zerolinecolor\":\"white\",\"automargin\":true,\"zerolinewidth\":2},\"scene\":{\"xaxis\":{\"backgroundcolor\":\"#E5ECF6\",\"gridcolor\":\"white\",\"linecolor\":\"white\",\"showbackground\":true,\"ticks\":\"\",\"zerolinecolor\":\"white\",\"gridwidth\":2},\"yaxis\":{\"backgroundcolor\":\"#E5ECF6\",\"gridcolor\":\"white\",\"linecolor\":\"white\",\"showbackground\":true,\"ticks\":\"\",\"zerolinecolor\":\"white\",\"gridwidth\":2},\"zaxis\":{\"backgroundcolor\":\"#E5ECF6\",\"gridcolor\":\"white\",\"linecolor\":\"white\",\"showbackground\":true,\"ticks\":\"\",\"zerolinecolor\":\"white\",\"gridwidth\":2}},\"shapedefaults\":{\"line\":{\"color\":\"#2a3f5f\"}},\"annotationdefaults\":{\"arrowcolor\":\"#2a3f5f\",\"arrowhead\":0,\"arrowwidth\":1},\"geo\":{\"bgcolor\":\"white\",\"landcolor\":\"#E5ECF6\",\"subunitcolor\":\"white\",\"showland\":true,\"showlakes\":true,\"lakecolor\":\"white\"},\"title\":{\"x\":0.05},\"mapbox\":{\"style\":\"light\"}}},\"geo\":{\"domain\":{\"x\":[0.0,1.0],\"y\":[0.0,1.0]},\"center\":{}},\"legend\":{\"title\":{\"text\":\"Country/Region\"},\"tracegroupgap\":0,\"itemsizing\":\"constant\"},\"title\":{\"text\":\"Total company valuations by country (non-big-four)\"}},                        {\"responsive\": true}                    ).then(function(){\n",
       "                            \n",
       "var gd = document.getElementById('0abcd775-2977-46ac-8202-d1555989ddc4');\n",
       "var x = new MutationObserver(function (mutations, observer) {{\n",
       "        var display = window.getComputedStyle(gd).display;\n",
       "        if (!display || display === 'none') {{\n",
       "            console.log([gd, 'removed!']);\n",
       "            Plotly.purge(gd);\n",
       "            observer.disconnect();\n",
       "        }}\n",
       "}});\n",
       "\n",
       "// Listen for the removal of the full notebook cells\n",
       "var notebookContainer = gd.closest('#notebook-container');\n",
       "if (notebookContainer) {{\n",
       "    x.observe(notebookContainer, {childList: true});\n",
       "}}\n",
       "\n",
       "// Listen for the clearing of the current output cell\n",
       "var outputEl = gd.closest('.output');\n",
       "if (outputEl) {{\n",
       "    x.observe(outputEl, {childList: true});\n",
       "}}\n",
       "\n",
       "                        })                };                });            </script>        </div>"
      ]
     },
     "metadata": {},
     "output_type": "display_data"
    }
   ],
   "source": [
    "# Plot the sum of valuations per country.\n",
    "\n",
    "import plotly.express as px\n",
    "data = national_valuations_no_big4\n",
    "\n",
    "px.scatter_geo(data_frame=data, \n",
    "               locations='Country/Region', \n",
    "               size='valuation_clean', \n",
    "               locationmode='country names', \n",
    "               color='Country/Region',\n",
    "               title='Total company valuations by country (non-big-four)')\n"
   ]
  },
  {
   "cell_type": "markdown",
   "metadata": {
    "id": "f8ejKJ3FIXuJ"
   },
   "source": [
    "<details>\n",
    "  <summary><h4><strong>Hint 1</strong></h4></summary>\n",
    "\n",
    "Use the `national_valuations_no_big4` dataframe that you already created.\n",
    "\n",
    "</details>"
   ]
  },
  {
   "cell_type": "markdown",
   "metadata": {},
   "source": [
    "<details>\n",
    "  <summary><h4><strong>Hint 2</strong></h4></summary>\n",
    "\n",
    "To plot the data:\n",
    "* Use `national_valuations_no_big4` as the `data_frame` argument of the `scatter_geo()` function.\n",
    "* Use `'Country/Region'` as the `locations` argument.\n",
    "* Use `'country names'` as the `locationmode` argument.\n",
    "* Use `'Country/Region'` as the `color` argument.\n",
    "\n",
    "Don't forget to include a title!\n",
    "</details>"
   ]
  },
  {
   "cell_type": "markdown",
   "metadata": {},
   "source": [
    "**Question: How is the valuation sum per country visualized in the plot?**\n"
   ]
  },
  {
   "cell_type": "markdown",
   "metadata": {},
   "source": [
    "- Valuation sum per country is visualized by the size of circles around the map."
   ]
  },
  {
   "cell_type": "markdown",
   "metadata": {},
   "source": [
    "**Question: Does any region stand out as having a lot of activity?**\n"
   ]
  },
  {
   "cell_type": "markdown",
   "metadata": {},
   "source": [
    "- Europe has a lot of unicorn companies in a concentrated area."
   ]
  },
  {
   "cell_type": "markdown",
   "metadata": {
    "id": "c77e7f0f-d2b9-4464-8a7c-9575d1e1ef9f"
   },
   "source": [
    "## Conclusion\n",
    "\n",
    "**What are some key takeaways that you learned during this lab?**\n",
    "* Missing data is a common problem for data professionals anytime they work with a data sample.\n",
    "* Addressing missing values is a part of the data-cleaning process and an important step in EDA. \n",
    "* Address missing values by either removing them or filling them in.\n",
    "* When considering how to address missing values, keep in mind the business, the data, and the questions to be answered. Always ensure you are not introducing bias into the dataset. \n",
    "* Addressing the missing values enabled you to answer your investor's questions. \n",
    "\n",
    "**How would you present your findings from this lab to others? Consider the information you would provide (and what you would omit), how you would share the various data insights, and how data visualizations could help your presentation.**\n",
    "* For the industry specific companies in certain locations, you could provide a short list of company names and locations.\n",
    "* For the top 20 countries by sum of valuations, you could use the plot you created in this lab or share a list. \n",
    "- For the top 20 countries sorted by sum of company valuations in each country, you would exclude `United States`, `China`, `India`, and `United Kingdom`. \n",
    "* For the questions concerning the valuation map, in addition to your visuals, you would provide a short summary of the data points. This is because the investor did not request a further breakdown of this data. \n",
    "\n",
    "\n"
   ]
  }
 ],
 "metadata": {
  "colab": {
   "collapsed_sections": [],
   "provenance": [
    {
     "file_id": "1D-SVQBZbnniSdt931Vd2drfvP_D0FNCC",
     "timestamp": 1661469989747
    },
    {
     "file_id": "1OZW8XgxaFvstKFchHbudTfA5IVDxThz0",
     "timestamp": 1661403750705
    }
   ],
   "toc_visible": true
  },
  "kernelspec": {
   "display_name": "Python 3",
   "language": "python",
   "name": "python3"
  },
  "language_info": {
   "codemirror_mode": {
    "name": "ipython",
    "version": 3
   },
   "file_extension": ".py",
   "mimetype": "text/x-python",
   "name": "python",
   "nbconvert_exporter": "python",
   "pygments_lexer": "ipython3",
   "version": "3.7.6"
  },
  "toc-autonumbering": false,
  "toc-showtags": false,
  "vscode": {
   "interpreter": {
    "hash": "58544ced29f0d0ccc90b78766d7e805897dc369e996e4fcba52aba46a973bc61"
   }
  }
 },
 "nbformat": 4,
 "nbformat_minor": 5
}
